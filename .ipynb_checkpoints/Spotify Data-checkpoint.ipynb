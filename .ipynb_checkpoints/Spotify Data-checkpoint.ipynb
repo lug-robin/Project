{
 "cells": [
  {
   "cell_type": "code",
   "execution_count": 1,
   "id": "7688d31b-6029-47c0-ba50-35e4923c6f41",
   "metadata": {},
   "outputs": [],
   "source": [
    "import pandas as pd\n",
    "import numpy as np\n",
    "import csv"
   ]
  },
  {
   "cell_type": "code",
   "execution_count": 7,
   "id": "70cd3060-a686-494e-9e15-3874fe97409f",
   "metadata": {},
   "outputs": [
    {
     "name": "stderr",
     "output_type": "stream",
     "text": [
      "C:\\Users\\luger\\AppData\\Local\\Temp\\ipykernel_21472\\3420914718.py:1: DtypeWarning: Columns (3,11,12,13) have mixed types. Specify dtype option on import or set low_memory=False.\n",
      "  song_data=pd.read_csv(\"csv/allsongs.csv\")\n"
     ]
    }
   ],
   "source": [
    "song_data=pd.read_csv(\"csv/allsongs.csv\")"
   ]
  },
  {
   "cell_type": "code",
   "execution_count": 10,
   "id": "d178b7bd-c4ab-490e-8759-9985661ced17",
   "metadata": {},
   "outputs": [
    {
     "ename": "ValueError",
     "evalue": "Integer column has NA values in column 3",
     "output_type": "error",
     "traceback": [
      "\u001b[1;31m---------------------------------------------------------------------------\u001b[0m",
      "\u001b[1;31mValueError\u001b[0m                                Traceback (most recent call last)",
      "Input \u001b[1;32mIn [10]\u001b[0m, in \u001b[0;36m<cell line: 1>\u001b[1;34m()\u001b[0m\n\u001b[1;32m----> 1\u001b[0m song_data \u001b[38;5;241m=\u001b[39m \u001b[43mpd\u001b[49m\u001b[38;5;241;43m.\u001b[39;49m\u001b[43mread_csv\u001b[49m\u001b[43m(\u001b[49m\u001b[38;5;124;43m\"\u001b[39;49m\u001b[38;5;124;43mcsv/allsongs.csv\u001b[39;49m\u001b[38;5;124;43m\"\u001b[39;49m\u001b[43m,\u001b[49m\u001b[43mdtype\u001b[49m\u001b[38;5;241;43m=\u001b[39;49m\u001b[43m{\u001b[49m\u001b[38;5;124;43m'\u001b[39;49m\u001b[38;5;124;43mms_played\u001b[39;49m\u001b[38;5;124;43m'\u001b[39;49m\u001b[43m:\u001b[49m\u001b[43m \u001b[49m\u001b[38;5;124;43m'\u001b[39;49m\u001b[38;5;124;43mint\u001b[39;49m\u001b[38;5;124;43m'\u001b[39;49m\u001b[43m,\u001b[49m\u001b[43m \u001b[49m\u001b[38;5;124;43m'\u001b[39;49m\u001b[38;5;124;43mspotify_episode_uri\u001b[39;49m\u001b[38;5;124;43m'\u001b[39;49m\u001b[43m:\u001b[49m\u001b[43m \u001b[49m\u001b[38;5;124;43m'\u001b[39;49m\u001b[38;5;124;43mstr\u001b[39;49m\u001b[38;5;124;43m'\u001b[39;49m\u001b[43m,\u001b[49m\u001b[38;5;124;43m'\u001b[39;49m\u001b[38;5;124;43mepisode_name\u001b[39;49m\u001b[38;5;124;43m'\u001b[39;49m\u001b[43m:\u001b[49m\u001b[38;5;124;43m'\u001b[39;49m\u001b[38;5;124;43mstr\u001b[39;49m\u001b[38;5;124;43m'\u001b[39;49m\u001b[43m,\u001b[49m\u001b[38;5;124;43m'\u001b[39;49m\u001b[38;5;124;43mepisode_show_name\u001b[39;49m\u001b[38;5;124;43m'\u001b[39;49m\u001b[43m:\u001b[49m\u001b[38;5;124;43m'\u001b[39;49m\u001b[38;5;124;43mstr\u001b[39;49m\u001b[38;5;124;43m'\u001b[39;49m\u001b[43m}\u001b[49m\u001b[43m)\u001b[49m\n",
      "File \u001b[1;32m~\\AppData\\Roaming\\Python\\Python39\\site-packages\\pandas\\util\\_decorators.py:211\u001b[0m, in \u001b[0;36mdeprecate_kwarg.<locals>._deprecate_kwarg.<locals>.wrapper\u001b[1;34m(*args, **kwargs)\u001b[0m\n\u001b[0;32m    209\u001b[0m     \u001b[38;5;28;01melse\u001b[39;00m:\n\u001b[0;32m    210\u001b[0m         kwargs[new_arg_name] \u001b[38;5;241m=\u001b[39m new_arg_value\n\u001b[1;32m--> 211\u001b[0m \u001b[38;5;28;01mreturn\u001b[39;00m func(\u001b[38;5;241m*\u001b[39margs, \u001b[38;5;241m*\u001b[39m\u001b[38;5;241m*\u001b[39mkwargs)\n",
      "File \u001b[1;32m~\\AppData\\Roaming\\Python\\Python39\\site-packages\\pandas\\util\\_decorators.py:331\u001b[0m, in \u001b[0;36mdeprecate_nonkeyword_arguments.<locals>.decorate.<locals>.wrapper\u001b[1;34m(*args, **kwargs)\u001b[0m\n\u001b[0;32m    325\u001b[0m \u001b[38;5;28;01mif\u001b[39;00m \u001b[38;5;28mlen\u001b[39m(args) \u001b[38;5;241m>\u001b[39m num_allow_args:\n\u001b[0;32m    326\u001b[0m     warnings\u001b[38;5;241m.\u001b[39mwarn(\n\u001b[0;32m    327\u001b[0m         msg\u001b[38;5;241m.\u001b[39mformat(arguments\u001b[38;5;241m=\u001b[39m_format_argument_list(allow_args)),\n\u001b[0;32m    328\u001b[0m         \u001b[38;5;167;01mFutureWarning\u001b[39;00m,\n\u001b[0;32m    329\u001b[0m         stacklevel\u001b[38;5;241m=\u001b[39mfind_stack_level(),\n\u001b[0;32m    330\u001b[0m     )\n\u001b[1;32m--> 331\u001b[0m \u001b[38;5;28;01mreturn\u001b[39;00m func(\u001b[38;5;241m*\u001b[39margs, \u001b[38;5;241m*\u001b[39m\u001b[38;5;241m*\u001b[39mkwargs)\n",
      "File \u001b[1;32m~\\AppData\\Roaming\\Python\\Python39\\site-packages\\pandas\\io\\parsers\\readers.py:950\u001b[0m, in \u001b[0;36mread_csv\u001b[1;34m(filepath_or_buffer, sep, delimiter, header, names, index_col, usecols, squeeze, prefix, mangle_dupe_cols, dtype, engine, converters, true_values, false_values, skipinitialspace, skiprows, skipfooter, nrows, na_values, keep_default_na, na_filter, verbose, skip_blank_lines, parse_dates, infer_datetime_format, keep_date_col, date_parser, dayfirst, cache_dates, iterator, chunksize, compression, thousands, decimal, lineterminator, quotechar, quoting, doublequote, escapechar, comment, encoding, encoding_errors, dialect, error_bad_lines, warn_bad_lines, on_bad_lines, delim_whitespace, low_memory, memory_map, float_precision, storage_options)\u001b[0m\n\u001b[0;32m    935\u001b[0m kwds_defaults \u001b[38;5;241m=\u001b[39m _refine_defaults_read(\n\u001b[0;32m    936\u001b[0m     dialect,\n\u001b[0;32m    937\u001b[0m     delimiter,\n\u001b[1;32m   (...)\u001b[0m\n\u001b[0;32m    946\u001b[0m     defaults\u001b[38;5;241m=\u001b[39m{\u001b[38;5;124m\"\u001b[39m\u001b[38;5;124mdelimiter\u001b[39m\u001b[38;5;124m\"\u001b[39m: \u001b[38;5;124m\"\u001b[39m\u001b[38;5;124m,\u001b[39m\u001b[38;5;124m\"\u001b[39m},\n\u001b[0;32m    947\u001b[0m )\n\u001b[0;32m    948\u001b[0m kwds\u001b[38;5;241m.\u001b[39mupdate(kwds_defaults)\n\u001b[1;32m--> 950\u001b[0m \u001b[38;5;28;01mreturn\u001b[39;00m \u001b[43m_read\u001b[49m\u001b[43m(\u001b[49m\u001b[43mfilepath_or_buffer\u001b[49m\u001b[43m,\u001b[49m\u001b[43m \u001b[49m\u001b[43mkwds\u001b[49m\u001b[43m)\u001b[49m\n",
      "File \u001b[1;32m~\\AppData\\Roaming\\Python\\Python39\\site-packages\\pandas\\io\\parsers\\readers.py:611\u001b[0m, in \u001b[0;36m_read\u001b[1;34m(filepath_or_buffer, kwds)\u001b[0m\n\u001b[0;32m    608\u001b[0m     \u001b[38;5;28;01mreturn\u001b[39;00m parser\n\u001b[0;32m    610\u001b[0m \u001b[38;5;28;01mwith\u001b[39;00m parser:\n\u001b[1;32m--> 611\u001b[0m     \u001b[38;5;28;01mreturn\u001b[39;00m \u001b[43mparser\u001b[49m\u001b[38;5;241;43m.\u001b[39;49m\u001b[43mread\u001b[49m\u001b[43m(\u001b[49m\u001b[43mnrows\u001b[49m\u001b[43m)\u001b[49m\n",
      "File \u001b[1;32m~\\AppData\\Roaming\\Python\\Python39\\site-packages\\pandas\\io\\parsers\\readers.py:1778\u001b[0m, in \u001b[0;36mTextFileReader.read\u001b[1;34m(self, nrows)\u001b[0m\n\u001b[0;32m   1771\u001b[0m nrows \u001b[38;5;241m=\u001b[39m validate_integer(\u001b[38;5;124m\"\u001b[39m\u001b[38;5;124mnrows\u001b[39m\u001b[38;5;124m\"\u001b[39m, nrows)\n\u001b[0;32m   1772\u001b[0m \u001b[38;5;28;01mtry\u001b[39;00m:\n\u001b[0;32m   1773\u001b[0m     \u001b[38;5;66;03m# error: \"ParserBase\" has no attribute \"read\"\u001b[39;00m\n\u001b[0;32m   1774\u001b[0m     (\n\u001b[0;32m   1775\u001b[0m         index,\n\u001b[0;32m   1776\u001b[0m         columns,\n\u001b[0;32m   1777\u001b[0m         col_dict,\n\u001b[1;32m-> 1778\u001b[0m     ) \u001b[38;5;241m=\u001b[39m \u001b[38;5;28;43mself\u001b[39;49m\u001b[38;5;241;43m.\u001b[39;49m\u001b[43m_engine\u001b[49m\u001b[38;5;241;43m.\u001b[39;49m\u001b[43mread\u001b[49m\u001b[43m(\u001b[49m\u001b[43m  \u001b[49m\u001b[38;5;66;43;03m# type: ignore[attr-defined]\u001b[39;49;00m\n\u001b[0;32m   1779\u001b[0m \u001b[43m        \u001b[49m\u001b[43mnrows\u001b[49m\n\u001b[0;32m   1780\u001b[0m \u001b[43m    \u001b[49m\u001b[43m)\u001b[49m\n\u001b[0;32m   1781\u001b[0m \u001b[38;5;28;01mexcept\u001b[39;00m \u001b[38;5;167;01mException\u001b[39;00m:\n\u001b[0;32m   1782\u001b[0m     \u001b[38;5;28mself\u001b[39m\u001b[38;5;241m.\u001b[39mclose()\n",
      "File \u001b[1;32m~\\AppData\\Roaming\\Python\\Python39\\site-packages\\pandas\\io\\parsers\\c_parser_wrapper.py:230\u001b[0m, in \u001b[0;36mCParserWrapper.read\u001b[1;34m(self, nrows)\u001b[0m\n\u001b[0;32m    228\u001b[0m \u001b[38;5;28;01mtry\u001b[39;00m:\n\u001b[0;32m    229\u001b[0m     \u001b[38;5;28;01mif\u001b[39;00m \u001b[38;5;28mself\u001b[39m\u001b[38;5;241m.\u001b[39mlow_memory:\n\u001b[1;32m--> 230\u001b[0m         chunks \u001b[38;5;241m=\u001b[39m \u001b[38;5;28;43mself\u001b[39;49m\u001b[38;5;241;43m.\u001b[39;49m\u001b[43m_reader\u001b[49m\u001b[38;5;241;43m.\u001b[39;49m\u001b[43mread_low_memory\u001b[49m\u001b[43m(\u001b[49m\u001b[43mnrows\u001b[49m\u001b[43m)\u001b[49m\n\u001b[0;32m    231\u001b[0m         \u001b[38;5;66;03m# destructive to chunks\u001b[39;00m\n\u001b[0;32m    232\u001b[0m         data \u001b[38;5;241m=\u001b[39m _concatenate_chunks(chunks)\n",
      "File \u001b[1;32m~\\AppData\\Roaming\\Python\\Python39\\site-packages\\pandas\\_libs\\parsers.pyx:808\u001b[0m, in \u001b[0;36mpandas._libs.parsers.TextReader.read_low_memory\u001b[1;34m()\u001b[0m\n",
      "File \u001b[1;32m~\\AppData\\Roaming\\Python\\Python39\\site-packages\\pandas\\_libs\\parsers.pyx:890\u001b[0m, in \u001b[0;36mpandas._libs.parsers.TextReader._read_rows\u001b[1;34m()\u001b[0m\n",
      "File \u001b[1;32m~\\AppData\\Roaming\\Python\\Python39\\site-packages\\pandas\\_libs\\parsers.pyx:1037\u001b[0m, in \u001b[0;36mpandas._libs.parsers.TextReader._convert_column_data\u001b[1;34m()\u001b[0m\n",
      "File \u001b[1;32m~\\AppData\\Roaming\\Python\\Python39\\site-packages\\pandas\\_libs\\parsers.pyx:1068\u001b[0m, in \u001b[0;36mpandas._libs.parsers.TextReader._convert_tokens\u001b[1;34m()\u001b[0m\n",
      "File \u001b[1;32m~\\AppData\\Roaming\\Python\\Python39\\site-packages\\pandas\\_libs\\parsers.pyx:1187\u001b[0m, in \u001b[0;36mpandas._libs.parsers.TextReader._convert_with_dtype\u001b[1;34m()\u001b[0m\n",
      "\u001b[1;31mValueError\u001b[0m: Integer column has NA values in column 3"
     ]
    }
   ],
   "source": [
    "song_data = pd.read_csv(\"csv/allsongs.csv\",dtype={'ms_played': 'int', 'spotify_episode_uri': 'str','episode_name':'str','episode_show_name':'str'})\n"
   ]
  },
  {
   "cell_type": "code",
   "execution_count": 5,
   "id": "44a60ee3-ec85-43b4-9e6d-9b55da48b3b3",
   "metadata": {},
   "outputs": [
    {
     "name": "stdout",
     "output_type": "stream",
     "text": [
      "<class 'pandas.core.frame.DataFrame'>\n",
      "RangeIndex: 166253 entries, 0 to 166252\n",
      "Data columns (total 21 columns):\n",
      " #   Column                             Non-Null Count   Dtype  \n",
      "---  ------                             --------------   -----  \n",
      " 0   ts                                 166253 non-null  object \n",
      " 1   username                           28531 non-null   object \n",
      " 2   platform                           28519 non-null   object \n",
      " 3   ms_played                          28519 non-null   object \n",
      " 4   conn_country                       28504 non-null   object \n",
      " 5   ip_addr_decrypted                  28516 non-null   object \n",
      " 6   user_agent_decrypted               28327 non-null   object \n",
      " 7   master_metadata_track_name         25787 non-null   object \n",
      " 8   master_metadata_album_artist_name  25775 non-null   object \n",
      " 9   master_metadata_album_album_name   25787 non-null   object \n",
      " 10  spotify_track_uri                  25772 non-null   object \n",
      " 11  episode_name                       697 non-null     object \n",
      " 12  episode_show_name                  685 non-null     object \n",
      " 13  spotify_episode_uri                685 non-null     object \n",
      " 14  reason_start                       28503 non-null   object \n",
      " 15  reason_end                         28503 non-null   object \n",
      " 16  shuffle                            28504 non-null   object \n",
      " 17  skipped                            1347 non-null    float64\n",
      " 18  offline                            28504 non-null   object \n",
      " 19  offline_timestamp                  28504 non-null   float64\n",
      " 20  incognito_mode;;;;;                28504 non-null   object \n",
      "dtypes: float64(2), object(19)\n",
      "memory usage: 26.6+ MB\n"
     ]
    }
   ],
   "source": [
    "song_data.info()"
   ]
  },
  {
   "cell_type": "code",
   "execution_count": 3,
   "id": "a56716c7-ba47-492d-8814-e4d1e9a15013",
   "metadata": {},
   "outputs": [
    {
     "name": "stdout",
     "output_type": "stream",
     "text": [
      "<class 'pandas.core.frame.DataFrame'> (166253, 20)\n"
     ]
    }
   ],
   "source": [
    "song_data.index.name = 'index'\n",
    "\n",
    "\n",
    "songd_type = type(song_data)\n",
    "songd_shape = song_data.shape\n",
    "\n",
    "print(songd_type, songd_shape)"
   ]
  },
  {
   "cell_type": "code",
   "execution_count": 4,
   "id": "8f773f40-f78b-4bec-a7e8-9d34baa62211",
   "metadata": {},
   "outputs": [
    {
     "name": "stdout",
     "output_type": "stream",
     "text": [
      "<class 'pandas.core.frame.DataFrame'>\n",
      "Index: 166253 entries, 2014-06-20T12:13:54Z to 2022-12-18T22:59:13Z,resi_maresi,\"Android OS 10 API 29 (HUAWEI JNY-LX1)\",49507,AT,62.240.134.80,unknown,Seventeen,Troye Sivan,Bloom,spotify:track:7iyKbBjb2fmTnTfCjCh7ER,,,,trackdone,unexpected-exit-while-paused,True,,False,1671376201078,False;;;;;\n",
      "Data columns (total 20 columns):\n",
      " #   Column                             Non-Null Count  Dtype  \n",
      "---  ------                             --------------  -----  \n",
      " 0   username                           28531 non-null  object \n",
      " 1   platform                           28519 non-null  object \n",
      " 2   ms_played                          28519 non-null  object \n",
      " 3   conn_country                       28504 non-null  object \n",
      " 4   ip_addr_decrypted                  28516 non-null  object \n",
      " 5   user_agent_decrypted               28327 non-null  object \n",
      " 6   master_metadata_track_name         25787 non-null  object \n",
      " 7   master_metadata_album_artist_name  25775 non-null  object \n",
      " 8   master_metadata_album_album_name   25787 non-null  object \n",
      " 9   spotify_track_uri                  25772 non-null  object \n",
      " 10  episode_name                       697 non-null    object \n",
      " 11  episode_show_name                  685 non-null    object \n",
      " 12  spotify_episode_uri                685 non-null    object \n",
      " 13  reason_start                       28503 non-null  object \n",
      " 14  reason_end                         28503 non-null  object \n",
      " 15  shuffle                            28504 non-null  object \n",
      " 16  skipped                            1347 non-null   float64\n",
      " 17  offline                            28504 non-null  object \n",
      " 18  offline_timestamp                  28504 non-null  float64\n",
      " 19  incognito_mode;;;;;                28504 non-null  object \n",
      "dtypes: float64(2), object(18)\n",
      "memory usage: 26.6+ MB\n"
     ]
    }
   ],
   "source": [
    "song_data.info()"
   ]
  },
  {
   "cell_type": "code",
   "execution_count": 5,
   "id": "46d88782-8f3d-46d8-9998-9a25d4b39527",
   "metadata": {},
   "outputs": [
    {
     "data": {
      "text/plain": [
       "Index(['username', 'platform', 'ms_played', 'conn_country',\n",
       "       'ip_addr_decrypted', 'user_agent_decrypted',\n",
       "       'master_metadata_track_name', 'master_metadata_album_artist_name',\n",
       "       'master_metadata_album_album_name', 'spotify_track_uri', 'episode_name',\n",
       "       'episode_show_name', 'spotify_episode_uri', 'reason_start',\n",
       "       'reason_end', 'shuffle', 'skipped', 'offline', 'offline_timestamp',\n",
       "       'incognito_mode;;;;;'],\n",
       "      dtype='object')"
      ]
     },
     "execution_count": 5,
     "metadata": {},
     "output_type": "execute_result"
    }
   ],
   "source": [
    "song_data.columns"
   ]
  },
  {
   "cell_type": "code",
   "execution_count": 6,
   "id": "a0e0ded4-92c0-4bb8-a42d-a139f7e5b2c3",
   "metadata": {
    "tags": []
   },
   "outputs": [],
   "source": [
    "song_data = song_data.rename_axis('index1').reset_index()"
   ]
  },
  {
   "cell_type": "code",
   "execution_count": 7,
   "id": "2c3e129c-37bb-40f4-9c25-7d0dbe4582dd",
   "metadata": {},
   "outputs": [],
   "source": [
    "song_data=song_data.rename(columns={'conn_country':'country','ip_addr_decrypted':'ip_addr','master_metadata_track_name':'track','master_metadata_album_artist_name':'artist','master_metadata_album_album_name':'album','episode_show_name':'podcast_show','incognito_mode;;;;;':'incognito_mode','index1':'date_time'})"
   ]
  },
  {
   "cell_type": "code",
   "execution_count": 8,
   "id": "aed9803f-03b4-4395-8177-373349ebef4c",
   "metadata": {},
   "outputs": [
    {
     "data": {
      "text/plain": [
       "Index(['date_time', 'username', 'platform', 'ms_played', 'country', 'ip_addr',\n",
       "       'user_agent_decrypted', 'track', 'artist', 'album', 'spotify_track_uri',\n",
       "       'episode_name', 'podcast_show', 'spotify_episode_uri', 'reason_start',\n",
       "       'reason_end', 'shuffle', 'skipped', 'offline', 'offline_timestamp',\n",
       "       'incognito_mode'],\n",
       "      dtype='object')"
      ]
     },
     "execution_count": 8,
     "metadata": {},
     "output_type": "execute_result"
    }
   ],
   "source": [
    "song_data.columns"
   ]
  },
  {
   "cell_type": "code",
   "execution_count": 9,
   "id": "8ffdb321-27a8-48cb-971b-8fb3096d7d12",
   "metadata": {},
   "outputs": [],
   "source": [
    "song_data['date']=song_data['date_time'].str.slice(stop=11)\n",
    "song_data['time']=song_data['date_time'].str.slice(start=11)"
   ]
  },
  {
   "cell_type": "code",
   "execution_count": 10,
   "id": "fa1d13c5-3114-4794-9d71-3a5f2f9e1e74",
   "metadata": {
    "tags": []
   },
   "outputs": [],
   "source": [
    "song_data.drop(['ip_addr','user_agent_decrypted','spotify_track_uri','episode_name', 'podcast_show', 'spotify_episode_uri','offline_timestamp','incognito_mode','username','date_time'],axis=1,inplace=True)"
   ]
  },
  {
   "cell_type": "code",
   "execution_count": 11,
   "id": "7a7e203f-34d6-449e-9f96-3d73d0add140",
   "metadata": {},
   "outputs": [
    {
     "data": {
      "text/html": [
       "<div>\n",
       "<style scoped>\n",
       "    .dataframe tbody tr th:only-of-type {\n",
       "        vertical-align: middle;\n",
       "    }\n",
       "\n",
       "    .dataframe tbody tr th {\n",
       "        vertical-align: top;\n",
       "    }\n",
       "\n",
       "    .dataframe thead th {\n",
       "        text-align: right;\n",
       "    }\n",
       "</style>\n",
       "<table border=\"1\" class=\"dataframe\">\n",
       "  <thead>\n",
       "    <tr style=\"text-align: right;\">\n",
       "      <th></th>\n",
       "      <th>platform</th>\n",
       "      <th>ms_played</th>\n",
       "      <th>country</th>\n",
       "      <th>track</th>\n",
       "      <th>artist</th>\n",
       "      <th>album</th>\n",
       "      <th>reason_start</th>\n",
       "      <th>reason_end</th>\n",
       "      <th>shuffle</th>\n",
       "      <th>skipped</th>\n",
       "      <th>offline</th>\n",
       "      <th>date</th>\n",
       "      <th>time</th>\n",
       "    </tr>\n",
       "  </thead>\n",
       "  <tbody>\n",
       "    <tr>\n",
       "      <th>0</th>\n",
       "      <td>Windows 8 (6.2.9200; x64)</td>\n",
       "      <td>252760</td>\n",
       "      <td>AT</td>\n",
       "      <td>One</td>\n",
       "      <td>Ed Sheeran</td>\n",
       "      <td>x</td>\n",
       "      <td>clickrow</td>\n",
       "      <td>trackdone</td>\n",
       "      <td>False</td>\n",
       "      <td>0.0</td>\n",
       "      <td>False</td>\n",
       "      <td>2014-06-20T</td>\n",
       "      <td>12:13:54Z</td>\n",
       "    </tr>\n",
       "    <tr>\n",
       "      <th>1</th>\n",
       "      <td>Windows 8 (6.2.9200; x64)</td>\n",
       "      <td>244573</td>\n",
       "      <td>AT</td>\n",
       "      <td>I'm a Mess</td>\n",
       "      <td>Ed Sheeran</td>\n",
       "      <td>x</td>\n",
       "      <td>trackdone</td>\n",
       "      <td>trackdone</td>\n",
       "      <td>False</td>\n",
       "      <td>0.0</td>\n",
       "      <td>False</td>\n",
       "      <td>2014-06-20T</td>\n",
       "      <td>12:17:58Z</td>\n",
       "    </tr>\n",
       "    <tr>\n",
       "      <th>2</th>\n",
       "      <td>Windows 8 (6.2.9200; x64)</td>\n",
       "      <td>78941</td>\n",
       "      <td>AT</td>\n",
       "      <td>Sing</td>\n",
       "      <td>Ed Sheeran</td>\n",
       "      <td>x</td>\n",
       "      <td>trackdone</td>\n",
       "      <td>clickrow</td>\n",
       "      <td>False</td>\n",
       "      <td>1.0</td>\n",
       "      <td>False</td>\n",
       "      <td>2014-06-20T</td>\n",
       "      <td>12:19:17Z</td>\n",
       "    </tr>\n",
       "    <tr>\n",
       "      <th>3</th>\n",
       "      <td>Windows 8 (6.2.9200; x64)</td>\n",
       "      <td>15713</td>\n",
       "      <td>AT</td>\n",
       "      <td>Don't</td>\n",
       "      <td>Ed Sheeran</td>\n",
       "      <td>x</td>\n",
       "      <td>clickrow</td>\n",
       "      <td>clickrow</td>\n",
       "      <td>False</td>\n",
       "      <td>1.0</td>\n",
       "      <td>False</td>\n",
       "      <td>2014-06-20T</td>\n",
       "      <td>12:19:34Z</td>\n",
       "    </tr>\n",
       "    <tr>\n",
       "      <th>4</th>\n",
       "      <td>Windows 8 (6.2.9200; x64)</td>\n",
       "      <td>225533</td>\n",
       "      <td>AT</td>\n",
       "      <td>Nina</td>\n",
       "      <td>Ed Sheeran</td>\n",
       "      <td>x</td>\n",
       "      <td>clickrow</td>\n",
       "      <td>trackdone</td>\n",
       "      <td>False</td>\n",
       "      <td>0.0</td>\n",
       "      <td>False</td>\n",
       "      <td>2014-06-20T</td>\n",
       "      <td>12:23:21Z</td>\n",
       "    </tr>\n",
       "  </tbody>\n",
       "</table>\n",
       "</div>"
      ],
      "text/plain": [
       "                    platform ms_played country       track      artist album  \\\n",
       "0  Windows 8 (6.2.9200; x64)    252760      AT         One  Ed Sheeran     x   \n",
       "1  Windows 8 (6.2.9200; x64)    244573      AT  I'm a Mess  Ed Sheeran     x   \n",
       "2  Windows 8 (6.2.9200; x64)     78941      AT        Sing  Ed Sheeran     x   \n",
       "3  Windows 8 (6.2.9200; x64)     15713      AT       Don't  Ed Sheeran     x   \n",
       "4  Windows 8 (6.2.9200; x64)    225533      AT        Nina  Ed Sheeran     x   \n",
       "\n",
       "  reason_start reason_end shuffle  skipped offline         date       time  \n",
       "0     clickrow  trackdone   False      0.0   False  2014-06-20T  12:13:54Z  \n",
       "1    trackdone  trackdone   False      0.0   False  2014-06-20T  12:17:58Z  \n",
       "2    trackdone   clickrow   False      1.0   False  2014-06-20T  12:19:17Z  \n",
       "3     clickrow   clickrow   False      1.0   False  2014-06-20T  12:19:34Z  \n",
       "4     clickrow  trackdone   False      0.0   False  2014-06-20T  12:23:21Z  "
      ]
     },
     "execution_count": 11,
     "metadata": {},
     "output_type": "execute_result"
    }
   ],
   "source": [
    "song_data.head()"
   ]
  },
  {
   "cell_type": "code",
   "execution_count": 13,
   "id": "3ed975e7-d2dd-4de7-8c25-74061c384b6e",
   "metadata": {},
   "outputs": [],
   "source": [
    "song_data = song_data[['date', 'time','country','track','artist','album', 'ms_played','reason_start','reason_end','shuffle','skipped','offline','platform']]"
   ]
  },
  {
   "cell_type": "code",
   "execution_count": 14,
   "id": "219a246e-18af-4881-9412-89b93211149f",
   "metadata": {},
   "outputs": [
    {
     "data": {
      "text/html": [
       "<div>\n",
       "<style scoped>\n",
       "    .dataframe tbody tr th:only-of-type {\n",
       "        vertical-align: middle;\n",
       "    }\n",
       "\n",
       "    .dataframe tbody tr th {\n",
       "        vertical-align: top;\n",
       "    }\n",
       "\n",
       "    .dataframe thead th {\n",
       "        text-align: right;\n",
       "    }\n",
       "</style>\n",
       "<table border=\"1\" class=\"dataframe\">\n",
       "  <thead>\n",
       "    <tr style=\"text-align: right;\">\n",
       "      <th></th>\n",
       "      <th>date</th>\n",
       "      <th>time</th>\n",
       "      <th>country</th>\n",
       "      <th>track</th>\n",
       "      <th>artist</th>\n",
       "      <th>album</th>\n",
       "      <th>ms_played</th>\n",
       "      <th>reason_start</th>\n",
       "      <th>reason_end</th>\n",
       "      <th>shuffle</th>\n",
       "      <th>skipped</th>\n",
       "      <th>offline</th>\n",
       "      <th>platform</th>\n",
       "    </tr>\n",
       "  </thead>\n",
       "  <tbody>\n",
       "    <tr>\n",
       "      <th>0</th>\n",
       "      <td>2014-06-20T</td>\n",
       "      <td>12:13:54Z</td>\n",
       "      <td>AT</td>\n",
       "      <td>One</td>\n",
       "      <td>Ed Sheeran</td>\n",
       "      <td>x</td>\n",
       "      <td>252760</td>\n",
       "      <td>clickrow</td>\n",
       "      <td>trackdone</td>\n",
       "      <td>False</td>\n",
       "      <td>0.0</td>\n",
       "      <td>False</td>\n",
       "      <td>Windows 8 (6.2.9200; x64)</td>\n",
       "    </tr>\n",
       "    <tr>\n",
       "      <th>1</th>\n",
       "      <td>2014-06-20T</td>\n",
       "      <td>12:17:58Z</td>\n",
       "      <td>AT</td>\n",
       "      <td>I'm a Mess</td>\n",
       "      <td>Ed Sheeran</td>\n",
       "      <td>x</td>\n",
       "      <td>244573</td>\n",
       "      <td>trackdone</td>\n",
       "      <td>trackdone</td>\n",
       "      <td>False</td>\n",
       "      <td>0.0</td>\n",
       "      <td>False</td>\n",
       "      <td>Windows 8 (6.2.9200; x64)</td>\n",
       "    </tr>\n",
       "    <tr>\n",
       "      <th>2</th>\n",
       "      <td>2014-06-20T</td>\n",
       "      <td>12:19:17Z</td>\n",
       "      <td>AT</td>\n",
       "      <td>Sing</td>\n",
       "      <td>Ed Sheeran</td>\n",
       "      <td>x</td>\n",
       "      <td>78941</td>\n",
       "      <td>trackdone</td>\n",
       "      <td>clickrow</td>\n",
       "      <td>False</td>\n",
       "      <td>1.0</td>\n",
       "      <td>False</td>\n",
       "      <td>Windows 8 (6.2.9200; x64)</td>\n",
       "    </tr>\n",
       "    <tr>\n",
       "      <th>3</th>\n",
       "      <td>2014-06-20T</td>\n",
       "      <td>12:19:34Z</td>\n",
       "      <td>AT</td>\n",
       "      <td>Don't</td>\n",
       "      <td>Ed Sheeran</td>\n",
       "      <td>x</td>\n",
       "      <td>15713</td>\n",
       "      <td>clickrow</td>\n",
       "      <td>clickrow</td>\n",
       "      <td>False</td>\n",
       "      <td>1.0</td>\n",
       "      <td>False</td>\n",
       "      <td>Windows 8 (6.2.9200; x64)</td>\n",
       "    </tr>\n",
       "    <tr>\n",
       "      <th>4</th>\n",
       "      <td>2014-06-20T</td>\n",
       "      <td>12:23:21Z</td>\n",
       "      <td>AT</td>\n",
       "      <td>Nina</td>\n",
       "      <td>Ed Sheeran</td>\n",
       "      <td>x</td>\n",
       "      <td>225533</td>\n",
       "      <td>clickrow</td>\n",
       "      <td>trackdone</td>\n",
       "      <td>False</td>\n",
       "      <td>0.0</td>\n",
       "      <td>False</td>\n",
       "      <td>Windows 8 (6.2.9200; x64)</td>\n",
       "    </tr>\n",
       "  </tbody>\n",
       "</table>\n",
       "</div>"
      ],
      "text/plain": [
       "          date       time country       track      artist album ms_played  \\\n",
       "0  2014-06-20T  12:13:54Z      AT         One  Ed Sheeran     x    252760   \n",
       "1  2014-06-20T  12:17:58Z      AT  I'm a Mess  Ed Sheeran     x    244573   \n",
       "2  2014-06-20T  12:19:17Z      AT        Sing  Ed Sheeran     x     78941   \n",
       "3  2014-06-20T  12:19:34Z      AT       Don't  Ed Sheeran     x     15713   \n",
       "4  2014-06-20T  12:23:21Z      AT        Nina  Ed Sheeran     x    225533   \n",
       "\n",
       "  reason_start reason_end shuffle  skipped offline                   platform  \n",
       "0     clickrow  trackdone   False      0.0   False  Windows 8 (6.2.9200; x64)  \n",
       "1    trackdone  trackdone   False      0.0   False  Windows 8 (6.2.9200; x64)  \n",
       "2    trackdone   clickrow   False      1.0   False  Windows 8 (6.2.9200; x64)  \n",
       "3     clickrow   clickrow   False      1.0   False  Windows 8 (6.2.9200; x64)  \n",
       "4     clickrow  trackdone   False      0.0   False  Windows 8 (6.2.9200; x64)  "
      ]
     },
     "execution_count": 14,
     "metadata": {},
     "output_type": "execute_result"
    }
   ],
   "source": [
    "song_data.head()"
   ]
  },
  {
   "cell_type": "code",
   "execution_count": 19,
   "id": "60008944-501d-4db3-8be6-f84e864d464a",
   "metadata": {},
   "outputs": [
    {
     "data": {
      "text/plain": [
       "count         25775\n",
       "unique         2682\n",
       "top       The Maine\n",
       "freq           1065\n",
       "Name: artist, dtype: object"
      ]
     },
     "execution_count": 19,
     "metadata": {},
     "output_type": "execute_result"
    }
   ],
   "source": [
    "song_data['artist'].describe()"
   ]
  },
  {
   "cell_type": "code",
   "execution_count": 20,
   "id": "a171dd09-eb87-405c-93a4-438d8a938fdf",
   "metadata": {},
   "outputs": [
    {
     "data": {
      "text/plain": [
       "count           25787\n",
       "unique           6687\n",
       "top       Tribulation\n",
       "freq               38\n",
       "Name: track, dtype: object"
      ]
     },
     "execution_count": 20,
     "metadata": {},
     "output_type": "execute_result"
    }
   ],
   "source": [
    "song_data['track'].describe()"
   ]
  },
  {
   "cell_type": "code",
   "execution_count": 22,
   "id": "ebd29e4f-97bd-4444-b492-ef7605fad882",
   "metadata": {},
   "outputs": [
    {
     "name": "stdout",
     "output_type": "stream",
     "text": [
      "<class 'pandas.core.frame.DataFrame'>\n",
      "RangeIndex: 166253 entries, 0 to 166252\n",
      "Data columns (total 13 columns):\n",
      " #   Column        Non-Null Count   Dtype  \n",
      "---  ------        --------------   -----  \n",
      " 0   date          166253 non-null  object \n",
      " 1   time          166253 non-null  object \n",
      " 2   country       28504 non-null   object \n",
      " 3   track         25787 non-null   object \n",
      " 4   artist        25775 non-null   object \n",
      " 5   album         25787 non-null   object \n",
      " 6   ms_played     28519 non-null   object \n",
      " 7   reason_start  28503 non-null   object \n",
      " 8   reason_end    28503 non-null   object \n",
      " 9   shuffle       28504 non-null   object \n",
      " 10  skipped       1347 non-null    float64\n",
      " 11  offline       28504 non-null   object \n",
      " 12  platform      28519 non-null   object \n",
      "dtypes: float64(1), object(12)\n",
      "memory usage: 16.5+ MB\n"
     ]
    }
   ],
   "source": [
    "song_data.info()"
   ]
  },
  {
   "cell_type": "code",
   "execution_count": 23,
   "id": "d471feaf-5776-436d-bceb-48d3cc9a43d3",
   "metadata": {},
   "outputs": [
    {
     "data": {
      "text/html": [
       "<div>\n",
       "<style scoped>\n",
       "    .dataframe tbody tr th:only-of-type {\n",
       "        vertical-align: middle;\n",
       "    }\n",
       "\n",
       "    .dataframe tbody tr th {\n",
       "        vertical-align: top;\n",
       "    }\n",
       "\n",
       "    .dataframe thead th {\n",
       "        text-align: right;\n",
       "    }\n",
       "</style>\n",
       "<table border=\"1\" class=\"dataframe\">\n",
       "  <thead>\n",
       "    <tr style=\"text-align: right;\">\n",
       "      <th></th>\n",
       "      <th>date</th>\n",
       "      <th>time</th>\n",
       "      <th>country</th>\n",
       "      <th>track</th>\n",
       "      <th>artist</th>\n",
       "      <th>album</th>\n",
       "      <th>ms_played</th>\n",
       "      <th>reason_start</th>\n",
       "      <th>reason_end</th>\n",
       "      <th>shuffle</th>\n",
       "      <th>skipped</th>\n",
       "      <th>offline</th>\n",
       "      <th>platform</th>\n",
       "    </tr>\n",
       "  </thead>\n",
       "  <tbody>\n",
       "    <tr>\n",
       "      <th>166248</th>\n",
       "      <td>2022-12-18T</td>\n",
       "      <td>15:04:07Z,resi_maresi,\"Android OS 10 API 29 (H...</td>\n",
       "      <td>NaN</td>\n",
       "      <td>NaN</td>\n",
       "      <td>NaN</td>\n",
       "      <td>NaN</td>\n",
       "      <td>NaN</td>\n",
       "      <td>NaN</td>\n",
       "      <td>NaN</td>\n",
       "      <td>NaN</td>\n",
       "      <td>NaN</td>\n",
       "      <td>NaN</td>\n",
       "      <td>NaN</td>\n",
       "    </tr>\n",
       "    <tr>\n",
       "      <th>166249</th>\n",
       "      <td>2022-12-18T</td>\n",
       "      <td>15:04:12Z,resi_maresi,\"Android OS 10 API 29 (H...</td>\n",
       "      <td>NaN</td>\n",
       "      <td>NaN</td>\n",
       "      <td>NaN</td>\n",
       "      <td>NaN</td>\n",
       "      <td>NaN</td>\n",
       "      <td>NaN</td>\n",
       "      <td>NaN</td>\n",
       "      <td>NaN</td>\n",
       "      <td>NaN</td>\n",
       "      <td>NaN</td>\n",
       "      <td>NaN</td>\n",
       "    </tr>\n",
       "    <tr>\n",
       "      <th>166250</th>\n",
       "      <td>2022-12-18T</td>\n",
       "      <td>15:06:52Z,resi_maresi,\"Android OS 10 API 29 (H...</td>\n",
       "      <td>NaN</td>\n",
       "      <td>NaN</td>\n",
       "      <td>NaN</td>\n",
       "      <td>NaN</td>\n",
       "      <td>NaN</td>\n",
       "      <td>NaN</td>\n",
       "      <td>NaN</td>\n",
       "      <td>NaN</td>\n",
       "      <td>NaN</td>\n",
       "      <td>NaN</td>\n",
       "      <td>NaN</td>\n",
       "    </tr>\n",
       "    <tr>\n",
       "      <th>166251</th>\n",
       "      <td>2022-12-18T</td>\n",
       "      <td>15:10:00Z,resi_maresi,\"Android OS 10 API 29 (H...</td>\n",
       "      <td>NaN</td>\n",
       "      <td>NaN</td>\n",
       "      <td>NaN</td>\n",
       "      <td>NaN</td>\n",
       "      <td>NaN</td>\n",
       "      <td>NaN</td>\n",
       "      <td>NaN</td>\n",
       "      <td>NaN</td>\n",
       "      <td>NaN</td>\n",
       "      <td>NaN</td>\n",
       "      <td>NaN</td>\n",
       "    </tr>\n",
       "    <tr>\n",
       "      <th>166252</th>\n",
       "      <td>2022-12-18T</td>\n",
       "      <td>22:59:13Z,resi_maresi,\"Android OS 10 API 29 (H...</td>\n",
       "      <td>NaN</td>\n",
       "      <td>NaN</td>\n",
       "      <td>NaN</td>\n",
       "      <td>NaN</td>\n",
       "      <td>NaN</td>\n",
       "      <td>NaN</td>\n",
       "      <td>NaN</td>\n",
       "      <td>NaN</td>\n",
       "      <td>NaN</td>\n",
       "      <td>NaN</td>\n",
       "      <td>NaN</td>\n",
       "    </tr>\n",
       "  </tbody>\n",
       "</table>\n",
       "</div>"
      ],
      "text/plain": [
       "               date                                               time  \\\n",
       "166248  2022-12-18T  15:04:07Z,resi_maresi,\"Android OS 10 API 29 (H...   \n",
       "166249  2022-12-18T  15:04:12Z,resi_maresi,\"Android OS 10 API 29 (H...   \n",
       "166250  2022-12-18T  15:06:52Z,resi_maresi,\"Android OS 10 API 29 (H...   \n",
       "166251  2022-12-18T  15:10:00Z,resi_maresi,\"Android OS 10 API 29 (H...   \n",
       "166252  2022-12-18T  22:59:13Z,resi_maresi,\"Android OS 10 API 29 (H...   \n",
       "\n",
       "       country track artist album ms_played reason_start reason_end shuffle  \\\n",
       "166248     NaN   NaN    NaN   NaN       NaN          NaN        NaN     NaN   \n",
       "166249     NaN   NaN    NaN   NaN       NaN          NaN        NaN     NaN   \n",
       "166250     NaN   NaN    NaN   NaN       NaN          NaN        NaN     NaN   \n",
       "166251     NaN   NaN    NaN   NaN       NaN          NaN        NaN     NaN   \n",
       "166252     NaN   NaN    NaN   NaN       NaN          NaN        NaN     NaN   \n",
       "\n",
       "        skipped offline platform  \n",
       "166248      NaN     NaN      NaN  \n",
       "166249      NaN     NaN      NaN  \n",
       "166250      NaN     NaN      NaN  \n",
       "166251      NaN     NaN      NaN  \n",
       "166252      NaN     NaN      NaN  "
      ]
     },
     "execution_count": 23,
     "metadata": {},
     "output_type": "execute_result"
    }
   ],
   "source": [
    "song_data.tail()"
   ]
  },
  {
   "cell_type": "code",
   "execution_count": null,
   "id": "e4914b43-fe75-4120-b4f0-b35d98b53e84",
   "metadata": {},
   "outputs": [],
   "source": []
  }
 ],
 "metadata": {
  "kernelspec": {
   "display_name": "Python 3 (ipykernel)",
   "language": "python",
   "name": "python3"
  },
  "language_info": {
   "codemirror_mode": {
    "name": "ipython",
    "version": 3
   },
   "file_extension": ".py",
   "mimetype": "text/x-python",
   "name": "python",
   "nbconvert_exporter": "python",
   "pygments_lexer": "ipython3",
   "version": "3.9.12"
  },
  "toc-autonumbering": false,
  "toc-showcode": false,
  "toc-showmarkdowntxt": false
 },
 "nbformat": 4,
 "nbformat_minor": 5
}
