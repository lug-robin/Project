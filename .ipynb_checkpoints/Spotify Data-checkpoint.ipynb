{
 "cells": [
  {
   "cell_type": "code",
   "execution_count": 67,
   "id": "7688d31b-6029-47c0-ba50-35e4923c6f41",
   "metadata": {},
   "outputs": [],
   "source": [
    "import pandas as pd\n",
    "import numpy as np\n",
    "import csv"
   ]
  },
  {
   "cell_type": "code",
   "execution_count": 21,
   "id": "d8957a03-ea27-4a7e-b3c2-ba9aa7a1079f",
   "metadata": {},
   "outputs": [],
   "source": [
    "s0 = pd.read_json (r'C:\\Users\\luger\\Desktop\\Uni\\MA Digital Humanities\\01 Semester\\UE Introduction to DH Tools\\MyData\\endsong_0.json')\n",
    "s0.to_csv (r'C:\\Users\\luger\\Desktop\\Uni\\MA Digital Humanities\\01 Semester\\UE Introduction to DH Tools\\Project\\songdata_0.csv', index = None)\n",
    "s1 = pd.read_json (r'C:\\Users\\luger\\Desktop\\Uni\\MA Digital Humanities\\01 Semester\\UE Introduction to DH Tools\\MyData\\endsong_1.json')\n",
    "s1.to_csv (r'C:\\Users\\luger\\Desktop\\Uni\\MA Digital Humanities\\01 Semester\\UE Introduction to DH Tools\\Project\\csv\\songdata_1.csv', index = None)\n",
    "s2 = pd.read_json (r'C:\\Users\\luger\\Desktop\\Uni\\MA Digital Humanities\\01 Semester\\UE Introduction to DH Tools\\MyData\\endsong_2.json')\n",
    "s2.to_csv (r'C:\\Users\\luger\\Desktop\\Uni\\MA Digital Humanities\\01 Semester\\UE Introduction to DH Tools\\Project\\csv\\songdata_2.csv', index = None)\n",
    "s3 = pd.read_json (r'C:\\Users\\luger\\Desktop\\Uni\\MA Digital Humanities\\01 Semester\\UE Introduction to DH Tools\\MyData\\endsong_3.json')\n",
    "s3.to_csv (r'C:\\Users\\luger\\Desktop\\Uni\\MA Digital Humanities\\01 Semester\\UE Introduction to DH Tools\\Project\\csv\\songdata_3.csv',index = None)\n",
    "s4 = pd.read_json (r'C:\\Users\\luger\\Desktop\\Uni\\MA Digital Humanities\\01 Semester\\UE Introduction to DH Tools\\MyData\\endsong_4.json')\n",
    "s4.to_csv (r'C:\\Users\\luger\\Desktop\\Uni\\MA Digital Humanities\\01 Semester\\UE Introduction to DH Tools\\Project\\csv\\songdata_4.csv',index = None)\n",
    "s5 = pd.read_json (r'C:\\Users\\luger\\Desktop\\Uni\\MA Digital Humanities\\01 Semester\\UE Introduction to DH Tools\\MyData\\endsong_5.json')\n",
    "s5.to_csv (r'C:\\Users\\luger\\Desktop\\Uni\\MA Digital Humanities\\01 Semester\\UE Introduction to DH Tools\\Project\\csv\\songdata_5.csv',index = None)\n",
    "s6 = pd.read_json (r'C:\\Users\\luger\\Desktop\\Uni\\MA Digital Humanities\\01 Semester\\UE Introduction to DH Tools\\MyData\\endsong_6.json')\n",
    "s6.to_csv (r'C:\\Users\\luger\\Desktop\\Uni\\MA Digital Humanities\\01 Semester\\UE Introduction to DH Tools\\Project\\csv\\songdata_6.csv',index = None)\n",
    "s7 = pd.read_json (r'C:\\Users\\luger\\Desktop\\Uni\\MA Digital Humanities\\01 Semester\\UE Introduction to DH Tools\\MyData\\endsong_7.json')\n",
    "s7.to_csv (r'C:\\Users\\luger\\Desktop\\Uni\\MA Digital Humanities\\01 Semester\\UE Introduction to DH Tools\\Project\\csv\\songdata_7.csv',index = None)\n",
    "s8 = pd.read_json (r'C:\\Users\\luger\\Desktop\\Uni\\MA Digital Humanities\\01 Semester\\UE Introduction to DH Tools\\MyData\\endsong_8.json')\n",
    "s8.to_csv (r'C:\\Users\\luger\\Desktop\\Uni\\MA Digital Humanities\\01 Semester\\UE Introduction to DH Tools\\Project\\csv\\songdata_8.csv',index = None)\n",
    "s9 = pd.read_json (r'C:\\Users\\luger\\Desktop\\Uni\\MA Digital Humanities\\01 Semester\\UE Introduction to DH Tools\\MyData\\endsong_9.json')\n",
    "s9.to_csv (r'C:\\Users\\luger\\Desktop\\Uni\\MA Digital Humanities\\01 Semester\\UE Introduction to DH Tools\\Project\\csv\\songdata_9.csv',index = None)\n",
    "s10 = pd.read_json (r'C:\\Users\\luger\\Desktop\\Uni\\MA Digital Humanities\\01 Semester\\UE Introduction to DH Tools\\MyData\\endsong_10.json')\n",
    "s10.to_csv (r'C:\\Users\\luger\\Desktop\\Uni\\MA Digital Humanities\\01 Semester\\UE Introduction to DH Tools\\Project\\csv\\songdata_10.csv',index = None)"
   ]
  },
  {
   "cell_type": "code",
   "execution_count": 63,
   "id": "d178b7bd-c4ab-490e-8759-9985661ced17",
   "metadata": {},
   "outputs": [],
   "source": [
    "song_data = pd.read_csv(\"csv/allsongs.csv\",index_col=0,low_memory=False)"
   ]
  },
  {
   "cell_type": "code",
   "execution_count": 64,
   "id": "a56716c7-ba47-492d-8814-e4d1e9a15013",
   "metadata": {},
   "outputs": [
    {
     "name": "stdout",
     "output_type": "stream",
     "text": [
      "<class 'pandas.core.frame.DataFrame'> (166253, 20)\n"
     ]
    }
   ],
   "source": [
    "song_data.index.name = None\n",
    "\n",
    "\n",
    "songd_type = type(song_data)\n",
    "songd_shape = song_data.shape\n",
    "\n",
    "print(songd_type, songd_shape)"
   ]
  },
  {
   "cell_type": "code",
   "execution_count": 71,
   "id": "8f773f40-f78b-4bec-a7e8-9d34baa62211",
   "metadata": {},
   "outputs": [
    {
     "name": "stdout",
     "output_type": "stream",
     "text": [
      "<class 'pandas.core.frame.DataFrame'>\n",
      "Index: 166253 entries, 2014-06-20T12:13:54Z to 2022-12-18T22:59:13Z,resi_maresi,\"Android OS 10 API 29 (HUAWEI JNY-LX1)\",49507,AT,62.240.134.80,unknown,Seventeen,Troye Sivan,Bloom,spotify:track:7iyKbBjb2fmTnTfCjCh7ER,,,,trackdone,unexpected-exit-while-paused,True,,False,1671376201078,False;;;;;\n",
      "Data columns (total 20 columns):\n",
      " #   Column                             Non-Null Count  Dtype  \n",
      "---  ------                             --------------  -----  \n",
      " 0   username                           28531 non-null  object \n",
      " 1   platform                           28519 non-null  object \n",
      " 2   ms_played                          28519 non-null  object \n",
      " 3   conn_country                       28504 non-null  object \n",
      " 4   ip_addr_decrypted                  28516 non-null  object \n",
      " 5   user_agent_decrypted               28327 non-null  object \n",
      " 6   master_metadata_track_name         25787 non-null  object \n",
      " 7   master_metadata_album_artist_name  25775 non-null  object \n",
      " 8   master_metadata_album_album_name   25787 non-null  object \n",
      " 9   spotify_track_uri                  25772 non-null  object \n",
      " 10  episode_name                       697 non-null    object \n",
      " 11  episode_show_name                  685 non-null    object \n",
      " 12  spotify_episode_uri                685 non-null    object \n",
      " 13  reason_start                       28503 non-null  object \n",
      " 14  reason_end                         28503 non-null  object \n",
      " 15  shuffle                            28504 non-null  object \n",
      " 16  skipped                            1347 non-null   float64\n",
      " 17  offline                            28504 non-null  object \n",
      " 18  offline_timestamp                  28504 non-null  float64\n",
      " 19  incognito_mode;;;;;                28504 non-null  object \n",
      "dtypes: float64(2), object(18)\n",
      "memory usage: 26.6+ MB\n"
     ]
    }
   ],
   "source": [
    "song_data.info()"
   ]
  },
  {
   "cell_type": "code",
   "execution_count": 72,
   "id": "46d88782-8f3d-46d8-9998-9a25d4b39527",
   "metadata": {},
   "outputs": [
    {
     "data": {
      "text/plain": [
       "Index(['username', 'platform', 'ms_played', 'conn_country',\n",
       "       'ip_addr_decrypted', 'user_agent_decrypted',\n",
       "       'master_metadata_track_name', 'master_metadata_album_artist_name',\n",
       "       'master_metadata_album_album_name', 'spotify_track_uri', 'episode_name',\n",
       "       'episode_show_name', 'spotify_episode_uri', 'reason_start',\n",
       "       'reason_end', 'shuffle', 'skipped', 'offline', 'offline_timestamp',\n",
       "       'incognito_mode;;;;;'],\n",
       "      dtype='object')"
      ]
     },
     "execution_count": 72,
     "metadata": {},
     "output_type": "execute_result"
    }
   ],
   "source": [
    "song_data.columns"
   ]
  },
  {
   "cell_type": "code",
   "execution_count": 77,
   "id": "2c3e129c-37bb-40f4-9c25-7d0dbe4582dd",
   "metadata": {},
   "outputs": [],
   "source": [
    "song_data=song_data.rename(columns={'conn_country':'country','ip_addr_decrypted':'ip_addr','master_metadata_track_name':'track','master_metadata_album_artist_name':'artist','master_metadata_album_album_name':'album','episode_show_name':'podcast_show','incognito_mode;;;;;':'incognito_mode'})"
   ]
  },
  {
   "cell_type": "code",
   "execution_count": 78,
   "id": "aed9803f-03b4-4395-8177-373349ebef4c",
   "metadata": {},
   "outputs": [
    {
     "data": {
      "text/plain": [
       "Index(['username', 'platform', 'ms_played', 'country', 'ip_addr',\n",
       "       'user_agent_decrypted', 'track', 'artist', 'album', 'spotify_track_uri',\n",
       "       'episode_name', 'podcast_show', 'spotify_episode_uri', 'reason_start',\n",
       "       'reason_end', 'shuffle', 'skipped', 'offline', 'offline_timestamp',\n",
       "       'incognito_mode'],\n",
       "      dtype='object')"
      ]
     },
     "execution_count": 78,
     "metadata": {},
     "output_type": "execute_result"
    }
   ],
   "source": [
    "song_data.columns"
   ]
  },
  {
   "cell_type": "code",
   "execution_count": 84,
   "id": "fa1d13c5-3114-4794-9d71-3a5f2f9e1e74",
   "metadata": {},
   "outputs": [],
   "source": [
    "song_data.drop(['ip_addr','user_agent_decrypted','spotify_track_uri','episode_name', 'podcast_show', 'spotify_episode_uri','offline_timestamp','incognito_mode'],axis=1,inplace=True)"
   ]
  },
  {
   "cell_type": "code",
   "execution_count": 85,
   "id": "d995d6f1-3d0c-47db-a7e6-29fb35760594",
   "metadata": {},
   "outputs": [
    {
     "data": {
      "text/html": [
       "<div>\n",
       "<style scoped>\n",
       "    .dataframe tbody tr th:only-of-type {\n",
       "        vertical-align: middle;\n",
       "    }\n",
       "\n",
       "    .dataframe tbody tr th {\n",
       "        vertical-align: top;\n",
       "    }\n",
       "\n",
       "    .dataframe thead th {\n",
       "        text-align: right;\n",
       "    }\n",
       "</style>\n",
       "<table border=\"1\" class=\"dataframe\">\n",
       "  <thead>\n",
       "    <tr style=\"text-align: right;\">\n",
       "      <th></th>\n",
       "      <th>username</th>\n",
       "      <th>platform</th>\n",
       "      <th>ms_played</th>\n",
       "      <th>country</th>\n",
       "      <th>track</th>\n",
       "      <th>artist</th>\n",
       "      <th>album</th>\n",
       "      <th>reason_start</th>\n",
       "      <th>reason_end</th>\n",
       "      <th>shuffle</th>\n",
       "      <th>skipped</th>\n",
       "      <th>offline</th>\n",
       "    </tr>\n",
       "  </thead>\n",
       "  <tbody>\n",
       "    <tr>\n",
       "      <th>2014-06-20T12:13:54Z</th>\n",
       "      <td>resi_maresi</td>\n",
       "      <td>Windows 8 (6.2.9200; x64)</td>\n",
       "      <td>252760</td>\n",
       "      <td>AT</td>\n",
       "      <td>One</td>\n",
       "      <td>Ed Sheeran</td>\n",
       "      <td>x</td>\n",
       "      <td>clickrow</td>\n",
       "      <td>trackdone</td>\n",
       "      <td>False</td>\n",
       "      <td>0.0</td>\n",
       "      <td>False</td>\n",
       "    </tr>\n",
       "    <tr>\n",
       "      <th>2014-06-20T12:17:58Z</th>\n",
       "      <td>resi_maresi</td>\n",
       "      <td>Windows 8 (6.2.9200; x64)</td>\n",
       "      <td>244573</td>\n",
       "      <td>AT</td>\n",
       "      <td>I'm a Mess</td>\n",
       "      <td>Ed Sheeran</td>\n",
       "      <td>x</td>\n",
       "      <td>trackdone</td>\n",
       "      <td>trackdone</td>\n",
       "      <td>False</td>\n",
       "      <td>0.0</td>\n",
       "      <td>False</td>\n",
       "    </tr>\n",
       "    <tr>\n",
       "      <th>2014-06-20T12:19:17Z</th>\n",
       "      <td>resi_maresi</td>\n",
       "      <td>Windows 8 (6.2.9200; x64)</td>\n",
       "      <td>78941</td>\n",
       "      <td>AT</td>\n",
       "      <td>Sing</td>\n",
       "      <td>Ed Sheeran</td>\n",
       "      <td>x</td>\n",
       "      <td>trackdone</td>\n",
       "      <td>clickrow</td>\n",
       "      <td>False</td>\n",
       "      <td>1.0</td>\n",
       "      <td>False</td>\n",
       "    </tr>\n",
       "  </tbody>\n",
       "</table>\n",
       "</div>"
      ],
      "text/plain": [
       "                         username                   platform ms_played  \\\n",
       "2014-06-20T12:13:54Z  resi_maresi  Windows 8 (6.2.9200; x64)    252760   \n",
       "2014-06-20T12:17:58Z  resi_maresi  Windows 8 (6.2.9200; x64)    244573   \n",
       "2014-06-20T12:19:17Z  resi_maresi  Windows 8 (6.2.9200; x64)     78941   \n",
       "\n",
       "                     country       track      artist album reason_start  \\\n",
       "2014-06-20T12:13:54Z      AT         One  Ed Sheeran     x     clickrow   \n",
       "2014-06-20T12:17:58Z      AT  I'm a Mess  Ed Sheeran     x    trackdone   \n",
       "2014-06-20T12:19:17Z      AT        Sing  Ed Sheeran     x    trackdone   \n",
       "\n",
       "                     reason_end shuffle  skipped offline  \n",
       "2014-06-20T12:13:54Z  trackdone   False      0.0   False  \n",
       "2014-06-20T12:17:58Z  trackdone   False      0.0   False  \n",
       "2014-06-20T12:19:17Z   clickrow   False      1.0   False  "
      ]
     },
     "execution_count": 85,
     "metadata": {},
     "output_type": "execute_result"
    }
   ],
   "source": []
  },
  {
   "cell_type": "code",
   "execution_count": null,
   "id": "5d807958-7c1e-4100-83d4-ae452b6fc22d",
   "metadata": {},
   "outputs": [],
   "source": [
    "song_data[['date','time']] = song_data['programme'].str.split(';', expand=True)\n",
    "df.drop(['programme'], axis=1, inplace=True)\n",
    "\n",
    "df.to_csv('IMI.csv', index=False)"
   ]
  }
 ],
 "metadata": {
  "kernelspec": {
   "display_name": "Python 3 (ipykernel)",
   "language": "python",
   "name": "python3"
  },
  "language_info": {
   "codemirror_mode": {
    "name": "ipython",
    "version": 3
   },
   "file_extension": ".py",
   "mimetype": "text/x-python",
   "name": "python",
   "nbconvert_exporter": "python",
   "pygments_lexer": "ipython3",
   "version": "3.9.12"
  },
  "toc-autonumbering": false,
  "toc-showcode": false,
  "toc-showmarkdowntxt": false
 },
 "nbformat": 4,
 "nbformat_minor": 5
}
