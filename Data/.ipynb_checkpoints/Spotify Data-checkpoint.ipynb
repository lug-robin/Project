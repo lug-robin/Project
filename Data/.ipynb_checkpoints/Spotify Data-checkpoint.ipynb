{
 "cells": [
  {
   "cell_type": "code",
   "execution_count": 1,
   "id": "d8957a03-ea27-4a7e-b3c2-ba9aa7a1079f",
   "metadata": {},
   "outputs": [],
   "source": [
    "import pandas as pd\n",
    "df = pd.read_json (r'C:\\Users\\luger\\Desktop\\Uni\\MA Digital Humanities\\01 Semester\\UE Introduction to DH Tools\\MyData\\endsong_0.json')\n",
    "df.to_csv (r'C:\\Users\\luger\\Desktop\\Uni\\MA Digital Humanities\\01 Semester\\UE Introduction to DH Tools\\Project\\songdata_0.csv', index = None)"
   ]
  },
  {
   "cell_type": "code",
   "execution_count": 2,
   "id": "a8879e52-dcec-42ff-bc5f-ab2843c783a7",
   "metadata": {},
   "outputs": [],
   "source": [
    "import pandas as pd\n",
    "df = pd.read_json (r'C:\\Users\\luger\\Desktop\\Uni\\MA Digital Humanities\\01 Semester\\UE Introduction to DH Tools\\MyData\\endsong_1.json')\n",
    "df.to_csv (r'C:\\Users\\luger\\Desktop\\Uni\\MA Digital Humanities\\01 Semester\\UE Introduction to DH Tools\\Project\\songdata_1.csv', index = None)"
   ]
  },
  {
   "cell_type": "code",
   "execution_count": 36,
   "id": "54327631-44e3-40bd-b9b1-b0d1ba6ff12b",
   "metadata": {},
   "outputs": [],
   "source": [
    "import pandas as pd\n",
    "df = pd.read_json (r'C:\\Users\\luger\\Desktop\\Uni\\MA Digital Humanities\\01 Semester\\UE Introduction to DH Tools\\MyData\\endsong_2.json')\n",
    "df.to_csv (r'C:\\Users\\luger\\Desktop\\Uni\\MA Digital Humanities\\01 Semester\\UE Introduction to DH Tools\\Project\\songdata_2.csv', index = None)"
   ]
  },
  {
   "cell_type": "code",
   "execution_count": 37,
   "id": "831c2270-6956-4c15-9682-96bf6a95d1cd",
   "metadata": {},
   "outputs": [],
   "source": [
    "import pandas as pd\n",
    "df = pd.read_json (r'C:\\Users\\luger\\Desktop\\Uni\\MA Digital Humanities\\01 Semester\\UE Introduction to DH Tools\\MyData\\endsong_3.json')\n",
    "df.to_csv (r'C:\\Users\\luger\\Desktop\\Uni\\MA Digital Humanities\\01 Semester\\UE Introduction to DH Tools\\Project\\Data\\songdata_3.csv',index = None)"
   ]
  },
  {
   "cell_type": "code",
   "execution_count": 38,
   "id": "01ec1bd8-482b-4148-aae9-82a26777bd9b",
   "metadata": {},
   "outputs": [],
   "source": [
    "import pandas as pd\n",
    "df = pd.read_json (r'C:\\Users\\luger\\Desktop\\Uni\\MA Digital Humanities\\01 Semester\\UE Introduction to DH Tools\\MyData\\endsong_4.json')\n",
    "df.to_csv (r'C:\\Users\\luger\\Desktop\\Uni\\MA Digital Humanities\\01 Semester\\UE Introduction to DH Tools\\Project\\Data\\songdata_4.csv',index = None)"
   ]
  },
  {
   "cell_type": "code",
   "execution_count": 39,
   "id": "1f0d05c1-3b09-4327-98f7-d6ecf6b8cd85",
   "metadata": {},
   "outputs": [],
   "source": [
    "import pandas as pd\n",
    "df = pd.read_json (r'C:\\Users\\luger\\Desktop\\Uni\\MA Digital Humanities\\01 Semester\\UE Introduction to DH Tools\\MyData\\endsong_5.json')\n",
    "df.to_csv (r'C:\\Users\\luger\\Desktop\\Uni\\MA Digital Humanities\\01 Semester\\UE Introduction to DH Tools\\Project\\Data\\songdata_5.csv',index = None)"
   ]
  },
  {
   "cell_type": "code",
   "execution_count": 40,
   "id": "d28b539f-9db2-4bc4-8909-67e130ea0fc4",
   "metadata": {},
   "outputs": [],
   "source": [
    "import pandas as pd\n",
    "df = pd.read_json (r'C:\\Users\\luger\\Desktop\\Uni\\MA Digital Humanities\\01 Semester\\UE Introduction to DH Tools\\MyData\\endsong_6.json')\n",
    "df.to_csv (r'C:\\Users\\luger\\Desktop\\Uni\\MA Digital Humanities\\01 Semester\\UE Introduction to DH Tools\\Project\\Data\\songdata_6.csv',index = None)"
   ]
  },
  {
   "cell_type": "code",
   "execution_count": 41,
   "id": "16b49156-4641-4a94-b29b-88eb803966f0",
   "metadata": {},
   "outputs": [],
   "source": [
    "import pandas as pd\n",
    "df = pd.read_json (r'C:\\Users\\luger\\Desktop\\Uni\\MA Digital Humanities\\01 Semester\\UE Introduction to DH Tools\\MyData\\endsong_7.json')\n",
    "df.to_csv (r'C:\\Users\\luger\\Desktop\\Uni\\MA Digital Humanities\\01 Semester\\UE Introduction to DH Tools\\Project\\Data\\songdata_7.csv',index = None)"
   ]
  },
  {
   "cell_type": "code",
   "execution_count": 42,
   "id": "b955a640-5c70-4d37-8fc4-76ca57abb2db",
   "metadata": {},
   "outputs": [],
   "source": [
    "import pandas as pd\n",
    "df = pd.read_json (r'C:\\Users\\luger\\Desktop\\Uni\\MA Digital Humanities\\01 Semester\\UE Introduction to DH Tools\\MyData\\endsong_8.json')\n",
    "df.to_csv (r'C:\\Users\\luger\\Desktop\\Uni\\MA Digital Humanities\\01 Semester\\UE Introduction to DH Tools\\Project\\Data\\songdata_8.csv',index = None)"
   ]
  },
  {
   "cell_type": "code",
   "execution_count": 43,
   "id": "694f408f-b79a-491a-9950-a656bb7829cf",
   "metadata": {},
   "outputs": [],
   "source": [
    "import pandas as pd\n",
    "df = pd.read_json (r'C:\\Users\\luger\\Desktop\\Uni\\MA Digital Humanities\\01 Semester\\UE Introduction to DH Tools\\MyData\\endsong_9.json')\n",
    "df.to_csv (r'C:\\Users\\luger\\Desktop\\Uni\\MA Digital Humanities\\01 Semester\\UE Introduction to DH Tools\\Project\\Data\\songdata_9.csv',index = None)"
   ]
  },
  {
   "cell_type": "code",
   "execution_count": 44,
   "id": "d7456a5d-8031-4adc-8eb0-5524dd4589b4",
   "metadata": {},
   "outputs": [],
   "source": [
    "import pandas as pd\n",
    "df = pd.read_json (r'C:\\Users\\luger\\Desktop\\Uni\\MA Digital Humanities\\01 Semester\\UE Introduction to DH Tools\\MyData\\endsong_10.json')\n",
    "df.to_csv (r'C:\\Users\\luger\\Desktop\\Uni\\MA Digital Humanities\\01 Semester\\UE Introduction to DH Tools\\Project\\Data\\songdata_10.csv',index = None)"
   ]
  },
  {
   "cell_type": "code",
   "execution_count": 8,
   "id": "c91245a3-9460-4450-aee9-19db0420d3f9",
   "metadata": {},
   "outputs": [],
   "source": [
    "import pandas as pd\n",
    "\n",
    "read_file = pd.read_excel (r'C:\\Users\\luger\\Desktop\\Uni\\MA Digital Humanities\\01 Semester\\UE Introduction to DH Tools\\Project\\Data\\xls\\Songs2018.xlsx')\n",
    "read_file.to_csv (r'C:\\Users\\luger\\Desktop\\Uni\\MA Digital Humanities\\01 Semester\\UE Introduction to DH Tools\\Project\\Data\\Songs2018.csv', index = None, header=True)"
   ]
  },
  {
   "cell_type": "code",
   "execution_count": 18,
   "id": "a6e230e0-7cf8-4150-8340-8212eb575ad2",
   "metadata": {},
   "outputs": [
    {
     "data": {
      "text/plain": [
       "['songdata_0.csv',\n",
       " 'songdata_1.csv',\n",
       " 'songdata_10.csv',\n",
       " 'songdata_2.csv',\n",
       " 'songdata_3.csv',\n",
       " 'songdata_4.csv',\n",
       " 'songdata_5.csv',\n",
       " 'songdata_6.csv',\n",
       " 'songdata_7.csv',\n",
       " 'songdata_8.csv',\n",
       " 'songdata_9.csv']"
      ]
     },
     "execution_count": 18,
     "metadata": {},
     "output_type": "execute_result"
    }
   ],
   "source": [
    "#import the modules\n",
    "import os\n",
    "import pandas as pd#read the path\n",
    "file_path = (r\"C:\\Users\\luger\\Desktop\\Uni\\MA Digital Humanities\\01 Semester\\UE Introduction to DH Tools\\Project\\Data\")\n",
    "             #list all the files from the directory\n",
    "file_list = os.listdir(file_path)\n",
    "file_list"
   ]
  },
  {
   "cell_type": "code",
   "execution_count": 20,
   "id": "d2f3ec57-592e-4ce2-a4ae-37485734c0d0",
   "metadata": {},
   "outputs": [
    {
     "data": {
      "text/plain": [
       "['all_songdata.csv', 'Songs2018.csv']"
      ]
     },
     "execution_count": 20,
     "metadata": {},
     "output_type": "execute_result"
    }
   ],
   "source": [
    "#import modules\n",
    "import os\n",
    "import glob\n",
    "import pandas as pd\n",
    "#list all csv files only\n",
    "csv_files = glob.glob('*.{}'.format('csv'))\n",
    "csv_files"
   ]
  },
  {
   "cell_type": "code",
   "execution_count": null,
   "id": "d9795354-899f-4e2b-adf7-ae0cf114b193",
   "metadata": {},
   "outputs": [],
   "source": []
  }
 ],
 "metadata": {
  "kernelspec": {
   "display_name": "Python 3 (ipykernel)",
   "language": "python",
   "name": "python3"
  },
  "language_info": {
   "codemirror_mode": {
    "name": "ipython",
    "version": 3
   },
   "file_extension": ".py",
   "mimetype": "text/x-python",
   "name": "python",
   "nbconvert_exporter": "python",
   "pygments_lexer": "ipython3",
   "version": "3.9.12"
  }
 },
 "nbformat": 4,
 "nbformat_minor": 5
}
