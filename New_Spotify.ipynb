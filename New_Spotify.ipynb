{
 "cells": [
  {
   "cell_type": "markdown",
   "id": "e8b884f9-b6eb-4f1d-af93-fa6a3d7c6534",
   "metadata": {},
   "source": [
    "## Some ideas for this project\n",
    "- <s> import the data in csv <br>\n",
    "- <s> sort the data into different dataframes by year<br>\n",
    "- <s> function to calculate how much was listened<br>\n",
    "- <s>function for most and least played songs, artists and albums<br>\n",
    "- <s>as above, but only if they are in the library <br>\n",
    "- <s> function for cleaning the data <br>\n",
    "- graphs <br>\n",
    "- how much I listened in what month --> converting to minutes and hours <br>\n",
    "- code to assign the names of the months to the rows in questions<br>\n",
    "- maybe artist of the month<br>\n",
    "- altogether favourite song and arist<br>\n",
    "- function for sorting the dataframe (as in [2])<br>"
   ]
  },
  {
   "cell_type": "code",
   "execution_count": null,
   "id": "724d9d64-14bf-4499-b60e-16a257fab23c",
   "metadata": {},
   "outputs": [],
   "source": [
    "pd.set_option(\"display.max_rows\", None)"
   ]
  },
  {
   "cell_type": "code",
   "execution_count": 1,
   "id": "413db64a-09f8-4f7a-a62f-96de1fc65b22",
   "metadata": {},
   "outputs": [],
   "source": [
    "import csv\n",
    "import pandas as pd\n",
    "import numpy as np"
   ]
  },
  {
   "cell_type": "code",
   "execution_count": 2,
   "id": "c8cdf4ea-ea0e-4f3f-b712-ca0c56633799",
   "metadata": {
    "tags": []
   },
   "outputs": [],
   "source": [
    "song_0=pd.read_csv(\"Data/songdata_0.csv\",sep=\",\")\n",
    "song_1=pd.read_csv(\"Data/songdata_1.csv\",sep=\",\")\n",
    "song_2=pd.read_csv(\"Data/songdata_2.csv\",sep=\",\")\n",
    "song_3=pd.read_csv(\"Data/songdata_3.csv\",sep=\",\")\n",
    "song_4=pd.read_csv(\"Data/songdata_4.csv\",sep=\",\")\n",
    "song_5=pd.read_csv(\"Data/songdata_5.csv\",sep=\",\")\n",
    "song_6=pd.read_csv(\"Data/songdata_6.csv\",sep=\",\")\n",
    "song_7=pd.read_csv(\"Data/songdata_7.csv\",sep=\",\")\n",
    "song_8=pd.read_csv(\"Data/songdata_8.csv\",sep=\",\")\n",
    "song_9=pd.read_csv(\"Data/songdata_9.csv\",sep=\",\")\n",
    "song_10=pd.read_csv(\"Data/songdata_10.csv\",sep=\",\")\n",
    "liked_songs=pd.read_csv(\"Data/YourLibrary.csv\",sep=\";\")"
   ]
  },
  {
   "cell_type": "code",
   "execution_count": 3,
   "id": "5a8c573b-7baa-4dd3-8703-85d5ab022658",
   "metadata": {},
   "outputs": [],
   "source": [
    "# If I have the time, I will try to make a function out of that as well!\n",
    "\n",
    "songs2018=song_0[(song_0[\"ts\"] >= \"2018*\") & (song_0[\"ts\"] < \"2019*\")]\n",
    "songs2018=pd.concat([songs2018,song_1[(song_1[\"ts\"] >= \"2018*\") & (song_1[\"ts\"] < \"2019*\")]],verify_integrity = True,ignore_index=True)\n",
    "songs2018=pd.concat([songs2018,song_2[(song_2[\"ts\"] >= \"2018*\") & (song_2[\"ts\"] < \"2019*\")]],verify_integrity = True,ignore_index=True)\n",
    "songs2018=pd.concat([songs2018,song_3[(song_3[\"ts\"] >= \"2018*\") & (song_3[\"ts\"] < \"2019*\")]],verify_integrity = True,ignore_index=True)\n",
    "songs2018=pd.concat([songs2018,song_4[(song_4[\"ts\"] >= \"2018*\") & (song_4[\"ts\"] < \"2019*\")]],verify_integrity = True,ignore_index=True)\n",
    "songs2018=pd.concat([songs2018,song_5[(song_5[\"ts\"] >= \"2018*\") & (song_5[\"ts\"] < \"2019*\")]],verify_integrity = True,ignore_index=True)\n",
    "songs2018=pd.concat([songs2018,song_6[(song_6[\"ts\"] >= \"2018*\") & (song_6[\"ts\"] < \"2019*\")]],verify_integrity = True,ignore_index=True)\n",
    "songs2018=pd.concat([songs2018,song_7[(song_7[\"ts\"] >= \"2018*\") & (song_7[\"ts\"] < \"2019*\")]],verify_integrity = True,ignore_index=True)\n",
    "songs2018=pd.concat([songs2018,song_8[(song_8[\"ts\"] >= \"2018*\") & (song_8[\"ts\"] < \"2019*\")]],verify_integrity = True,ignore_index=True)\n",
    "songs2018=pd.concat([songs2018,song_9[(song_9[\"ts\"] >= \"2018*\") & (song_9[\"ts\"] < \"2019*\")]],verify_integrity = True,ignore_index=True)\n",
    "songs2018=pd.concat([songs2018,song_10[(song_10[\"ts\"] >= \"2018*\") & (song_10[\"ts\"] < \"2019*\")]],verify_integrity = True,ignore_index=True)\n",
    "\n",
    "songs2019=song_0[(song_0[\"ts\"] >= \"2019*\") & (song_0[\"ts\"] < \"2020*\")]\n",
    "songs2019=pd.concat([songs2019,song_1[(song_1[\"ts\"] >= \"2019*\") & (song_1[\"ts\"] < \"2020*\")]],verify_integrity = True,ignore_index=True)\n",
    "songs2019=pd.concat([songs2019,song_2[(song_2[\"ts\"] >= \"2019*\") & (song_2[\"ts\"] < \"2020*\")]],verify_integrity = True,ignore_index=True)\n",
    "songs2019=pd.concat([songs2019,song_3[(song_3[\"ts\"] >= \"2019*\") & (song_3[\"ts\"] < \"2020*\")]],verify_integrity = True,ignore_index=True)\n",
    "songs2019=pd.concat([songs2019,song_4[(song_4[\"ts\"] >= \"2019*\") & (song_4[\"ts\"] < \"2020*\")]],verify_integrity = True,ignore_index=True)\n",
    "songs2019=pd.concat([songs2019,song_5[(song_5[\"ts\"] >= \"2019*\") & (song_5[\"ts\"] < \"2020*\")]],verify_integrity = True,ignore_index=True)\n",
    "songs2019=pd.concat([songs2019,song_6[(song_6[\"ts\"] >= \"2019*\") & (song_6[\"ts\"] < \"2020*\")]],verify_integrity = True,ignore_index=True)\n",
    "songs2019=pd.concat([songs2019,song_7[(song_7[\"ts\"] >= \"2019*\") & (song_7[\"ts\"] < \"2020*\")]],verify_integrity = True,ignore_index=True)\n",
    "songs2019=pd.concat([songs2019,song_8[(song_8[\"ts\"] >= \"2019*\") & (song_8[\"ts\"] < \"2020*\")]],verify_integrity = True,ignore_index=True)\n",
    "songs2019=pd.concat([songs2019,song_9[(song_9[\"ts\"] >= \"2019*\") & (song_9[\"ts\"] < \"2020*\")]],verify_integrity = True,ignore_index=True)\n",
    "songs2019=pd.concat([songs2019,song_10[(song_10[\"ts\"] >= \"2019*\") & (song_10[\"ts\"] < \"2020*\")]],verify_integrity = True,ignore_index=True)\n",
    "\n",
    "songs2020=song_0[(song_0[\"ts\"] >= \"2020*\") & (song_0[\"ts\"] < \"2021*\")]\n",
    "songs2020=pd.concat([songs2020,song_1[(song_1[\"ts\"] >= \"2020*\") & (song_1[\"ts\"] < \"2021*\")]],verify_integrity = True,ignore_index=True)\n",
    "songs2020=pd.concat([songs2020,song_2[(song_2[\"ts\"] >= \"2020*\") & (song_2[\"ts\"] < \"2021*\")]],verify_integrity = True,ignore_index=True)\n",
    "songs2020=pd.concat([songs2020,song_3[(song_3[\"ts\"] >= \"2020*\") & (song_3[\"ts\"] < \"2021*\")]],verify_integrity = True,ignore_index=True)\n",
    "songs2020=pd.concat([songs2020,song_4[(song_4[\"ts\"] >= \"2020*\") & (song_4[\"ts\"] < \"2021*\")]],verify_integrity = True,ignore_index=True)\n",
    "songs2020=pd.concat([songs2020,song_5[(song_5[\"ts\"] >= \"2020*\") & (song_5[\"ts\"] < \"2021*\")]],verify_integrity = True,ignore_index=True)\n",
    "songs2020=pd.concat([songs2020,song_6[(song_6[\"ts\"] >= \"2020*\") & (song_6[\"ts\"] < \"2021*\")]],verify_integrity = True,ignore_index=True)\n",
    "songs2020=pd.concat([songs2020,song_7[(song_7[\"ts\"] >= \"2020*\") & (song_7[\"ts\"] < \"2021*\")]],verify_integrity = True,ignore_index=True)\n",
    "songs2020=pd.concat([songs2020,song_8[(song_8[\"ts\"] >= \"2020*\") & (song_8[\"ts\"] < \"2021*\")]],verify_integrity = True,ignore_index=True)\n",
    "songs2020=pd.concat([songs2020,song_9[(song_9[\"ts\"] >= \"2020*\") & (song_9[\"ts\"] < \"2021*\")]],verify_integrity = True,ignore_index=True)\n",
    "songs2020=pd.concat([songs2020,song_10[(song_10[\"ts\"] >= \"2020*\") & (song_10[\"ts\"] < \"2021*\")]],verify_integrity = True,ignore_index=True)\n",
    "\n",
    "songs2021=song_0[(song_0[\"ts\"] >= \"2021*\") & (song_0[\"ts\"] < \"2022*\")]\n",
    "songs2021=pd.concat([songs2021,song_1[(song_1[\"ts\"] >= \"2021*\") & (song_1[\"ts\"] < \"2022*\")]],verify_integrity = True,ignore_index=True)\n",
    "songs2021=pd.concat([songs2021,song_2[(song_2[\"ts\"] >= \"2021*\") & (song_2[\"ts\"] < \"2022*\")]],verify_integrity = True,ignore_index=True)\n",
    "songs2021=pd.concat([songs2021,song_3[(song_3[\"ts\"] >= \"2021*\") & (song_3[\"ts\"] < \"2022*\")]],verify_integrity = True,ignore_index=True)\n",
    "songs2021=pd.concat([songs2021,song_4[(song_4[\"ts\"] >= \"2021*\") & (song_4[\"ts\"] < \"2022*\")]],verify_integrity = True,ignore_index=True)\n",
    "songs2021=pd.concat([songs2021,song_5[(song_5[\"ts\"] >= \"2021*\") & (song_5[\"ts\"] < \"2022*\")]],verify_integrity = True,ignore_index=True)\n",
    "songs2021=pd.concat([songs2021,song_6[(song_6[\"ts\"] >= \"2021*\") & (song_6[\"ts\"] < \"2022*\")]],verify_integrity = True,ignore_index=True)\n",
    "songs2021=pd.concat([songs2021,song_7[(song_7[\"ts\"] >= \"2021*\") & (song_7[\"ts\"] < \"2022*\")]],verify_integrity = True,ignore_index=True)\n",
    "songs2021=pd.concat([songs2021,song_8[(song_8[\"ts\"] >= \"2021*\") & (song_8[\"ts\"] < \"2022*\")]],verify_integrity = True,ignore_index=True)\n",
    "songs2021=pd.concat([songs2021,song_9[(song_9[\"ts\"] >= \"2021*\") & (song_9[\"ts\"] < \"2022*\")]],verify_integrity = True,ignore_index=True)\n",
    "songs2021=pd.concat([songs2021,song_10[(song_10[\"ts\"] >= \"2021*\") & (song_10[\"ts\"] < \"2022*\")]],verify_integrity = True,ignore_index=True)\n",
    "\n",
    "songs2022 = song_0[(song_0[\"ts\"] >= \"2022*\")]\n",
    "songs2022=pd.concat([songs2022,song_1[(song_1[\"ts\"] >= \"2022*\") & (song_1[\"ts\"] < \"2023*\")]],verify_integrity = True,ignore_index=True)\n",
    "songs2022=pd.concat([songs2022,song_2[(song_2[\"ts\"] >= \"2022*\") & (song_2[\"ts\"] < \"2023*\")]],verify_integrity = True,ignore_index=True)\n",
    "songs2022=pd.concat([songs2022,song_3[(song_3[\"ts\"] >= \"2022*\") & (song_4[\"ts\"] < \"2023*\")]],verify_integrity = True,ignore_index=True)\n",
    "songs2022=pd.concat([songs2022,song_4[(song_4[\"ts\"] >= \"2022*\") & (song_4[\"ts\"] < \"2023*\")]],verify_integrity = True,ignore_index=True)\n",
    "songs2022=pd.concat([songs2022,song_5[(song_5[\"ts\"] >= \"2022*\") & (song_5[\"ts\"] < \"2023*\")]],verify_integrity = True,ignore_index=True)\n",
    "songs2022=pd.concat([songs2022,song_6[(song_6[\"ts\"] >= \"2022*\") & (song_6[\"ts\"] < \"2023*\")]],verify_integrity = True,ignore_index=True)\n",
    "songs2022=pd.concat([songs2022,song_7[(song_7[\"ts\"] >= \"2022*\") & (song_7[\"ts\"] < \"2023*\")]],verify_integrity = True,ignore_index=True)\n",
    "songs2022=pd.concat([songs2022,song_8[(song_8[\"ts\"] >= \"2022*\") & (song_8[\"ts\"] < \"2023*\")]],verify_integrity = True,ignore_index=True)\n",
    "songs2022=pd.concat([songs2022,song_9[(song_9[\"ts\"] >= \"2022*\") & (song_9[\"ts\"] < \"2023*\")]],verify_integrity = True,ignore_index=True)\n",
    "songs2022=pd.concat([songs2022,song_10[(song_10[\"ts\"] >= \"2022*\") & (song_10[\"ts\"] < \"2023*\")]],verify_integrity = True,ignore_index=True)"
   ]
  },
  {
   "cell_type": "markdown",
   "id": "264ca6b4-9e80-44b8-ad6d-6a0c99f21b87",
   "metadata": {},
   "source": [
    "# First dataset will be songs2022"
   ]
  },
  {
   "cell_type": "code",
   "execution_count": 4,
   "id": "9f8d326f-406d-41c4-a646-6844c6586ac1",
   "metadata": {},
   "outputs": [],
   "source": [
    "songs2022=songs2022.reset_index()\n",
    "songs2022=songs2022.set_index('index')"
   ]
  },
  {
   "cell_type": "code",
   "execution_count": 5,
   "id": "d18d25fc-43ce-49a5-b22a-481889924f29",
   "metadata": {},
   "outputs": [
    {
     "data": {
      "text/plain": [
       "Index(['ts', 'username', 'platform', 'ms_played', 'conn_country',\n",
       "       'ip_addr_decrypted', 'user_agent_decrypted',\n",
       "       'master_metadata_track_name', 'master_metadata_album_artist_name',\n",
       "       'master_metadata_album_album_name', 'spotify_track_uri', 'episode_name',\n",
       "       'episode_show_name', 'spotify_episode_uri', 'reason_start',\n",
       "       'reason_end', 'shuffle', 'skipped', 'offline', 'offline_timestamp',\n",
       "       'incognito_mode'],\n",
       "      dtype='object')"
      ]
     },
     "execution_count": 5,
     "metadata": {},
     "output_type": "execute_result"
    }
   ],
   "source": [
    "songs2022.columns"
   ]
  },
  {
   "cell_type": "code",
   "execution_count": 6,
   "id": "d820ea6a-5723-4b75-bd29-509ddb2d3830",
   "metadata": {},
   "outputs": [],
   "source": [
    "songs2022=songs2022.drop(['ip_addr_decrypted',\"episode_show_name\",'incognito_mode','username','user_agent_decrypted','spotify_track_uri','episode_name','spotify_episode_uri','offline','offline_timestamp','skipped'],axis=1)"
   ]
  },
  {
   "cell_type": "code",
   "execution_count": 7,
   "id": "3fed3159-7633-426b-9eaa-0b6b3dbb5b2e",
   "metadata": {},
   "outputs": [],
   "source": [
    "songs2022=songs2022.rename(columns={'ts':'date_time','master_metadata_track_name':'track','master_metadata_album_artist_name':'artist','master_metadata_album_album_name':'album','conn_country':'country'})"
   ]
  },
  {
   "cell_type": "code",
   "execution_count": 8,
   "id": "4d7bebf9-d862-4682-a4d1-4a76a4c5fe51",
   "metadata": {},
   "outputs": [],
   "source": [
    "songs2022 = songs2022[['date_time','track','artist','album', 'ms_played','reason_start','reason_end','shuffle','platform','country']]"
   ]
  },
  {
   "cell_type": "code",
   "execution_count": 9,
   "id": "51559b2d-7ffc-49d3-ac7c-2ed1e142ac45",
   "metadata": {},
   "outputs": [],
   "source": [
    "songs2022= songs2022.sort_values(\"date_time\")"
   ]
  },
  {
   "cell_type": "code",
   "execution_count": 10,
   "id": "b492a85d-2bc7-4395-b81b-c155ef1375b5",
   "metadata": {},
   "outputs": [],
   "source": [
    "songs2022.replace(\"\",\"NaN\", inplace=True)"
   ]
  },
  {
   "cell_type": "code",
   "execution_count": 11,
   "id": "ed93f2b1-9831-4e35-be12-daaa9485ba81",
   "metadata": {},
   "outputs": [],
   "source": [
    "songs2022.dropna(subset = [\"track\"], inplace=True)"
   ]
  },
  {
   "cell_type": "code",
   "execution_count": 12,
   "id": "7503b3ae-9ee8-4717-b33d-cc941fbe7b04",
   "metadata": {},
   "outputs": [],
   "source": [
    "songs2022=songs2022.reset_index(drop=True)"
   ]
  },
  {
   "cell_type": "code",
   "execution_count": 13,
   "id": "9e70fc10-e607-4696-9aae-cb7e983ac530",
   "metadata": {},
   "outputs": [
    {
     "name": "stdout",
     "output_type": "stream",
     "text": [
      "<class 'pandas.core.frame.DataFrame'>\n",
      "RangeIndex: 23195 entries, 0 to 23194\n",
      "Data columns (total 10 columns):\n",
      " #   Column        Non-Null Count  Dtype \n",
      "---  ------        --------------  ----- \n",
      " 0   date_time     23195 non-null  object\n",
      " 1   track         23195 non-null  object\n",
      " 2   artist        23195 non-null  object\n",
      " 3   album         23195 non-null  object\n",
      " 4   ms_played     23195 non-null  int64 \n",
      " 5   reason_start  23195 non-null  object\n",
      " 6   reason_end    23195 non-null  object\n",
      " 7   shuffle       23195 non-null  bool  \n",
      " 8   platform      23195 non-null  object\n",
      " 9   country       23195 non-null  object\n",
      "dtypes: bool(1), int64(1), object(8)\n",
      "memory usage: 1.6+ MB\n"
     ]
    }
   ],
   "source": [
    "songs2022.info()"
   ]
  },
  {
   "cell_type": "markdown",
   "id": "3daa7377-6452-4f52-adad-f19981129122",
   "metadata": {},
   "source": [
    "# Creating a function to clean the Dataframe"
   ]
  },
  {
   "cell_type": "code",
   "execution_count": 14,
   "id": "dd3a9fb4-ced7-4ba4-9558-10f2a06b5727",
   "metadata": {},
   "outputs": [],
   "source": [
    "def cleaning (Dataframe):\n",
    "    pd.DataFrame(Dataframe)\n",
    "    Dataframe=Dataframe.drop(['ip_addr_decrypted',\"episode_show_name\",'incognito_mode','username','user_agent_decrypted','spotify_track_uri','episode_name','spotify_episode_uri','offline','offline_timestamp','skipped'],axis=\"columns\")\n",
    "    Dataframe=Dataframe.rename(columns={'ts':'date_time','master_metadata_track_name':'track','master_metadata_album_artist_name':'artist','master_metadata_album_album_name':'album','conn_country':'country'})\n",
    "    Dataframe= Dataframe[['date_time','track','artist','album', 'ms_played','reason_start','reason_end','shuffle','platform','country']]\n",
    "    Dataframe= Dataframe.sort_values(\"date_time\")\n",
    "    Dataframe.replace(\"\",\"NaN\", inplace=True)\n",
    "    Dataframe.dropna(subset = [\"track\"], inplace=True)\n",
    "    Dataframe=Dataframe.reset_index(drop=True)\n",
    "    return Dataframe"
   ]
  },
  {
   "cell_type": "code",
   "execution_count": 15,
   "id": "687ac635-804f-48ff-af1b-019222c1b46f",
   "metadata": {},
   "outputs": [],
   "source": [
    "songs2019=cleaning(Dataframe=songs2019)\n",
    "songs2020=cleaning(Dataframe=songs2020)\n",
    "songs2021=cleaning(Dataframe=songs2021)"
   ]
  },
  {
   "cell_type": "code",
   "execution_count": 16,
   "id": "54edb216-faf0-4aca-b6f7-c3be818fef1b",
   "metadata": {},
   "outputs": [
    {
     "data": {
      "text/html": [
       "<div>\n",
       "<style scoped>\n",
       "    .dataframe tbody tr th:only-of-type {\n",
       "        vertical-align: middle;\n",
       "    }\n",
       "\n",
       "    .dataframe tbody tr th {\n",
       "        vertical-align: top;\n",
       "    }\n",
       "\n",
       "    .dataframe thead th {\n",
       "        text-align: right;\n",
       "    }\n",
       "</style>\n",
       "<table border=\"1\" class=\"dataframe\">\n",
       "  <thead>\n",
       "    <tr style=\"text-align: right;\">\n",
       "      <th></th>\n",
       "      <th>date_time</th>\n",
       "      <th>track</th>\n",
       "      <th>artist</th>\n",
       "      <th>album</th>\n",
       "      <th>ms_played</th>\n",
       "      <th>reason_start</th>\n",
       "      <th>reason_end</th>\n",
       "      <th>shuffle</th>\n",
       "      <th>platform</th>\n",
       "      <th>country</th>\n",
       "    </tr>\n",
       "  </thead>\n",
       "  <tbody>\n",
       "    <tr>\n",
       "      <th>0</th>\n",
       "      <td>2021-01-01T00:27:56Z</td>\n",
       "      <td>Scottish Clan</td>\n",
       "      <td>Derek Fiechter</td>\n",
       "      <td>Europe</td>\n",
       "      <td>11712</td>\n",
       "      <td>playbtn</td>\n",
       "      <td>remote</td>\n",
       "      <td>True</td>\n",
       "      <td>Android OS 9 API 28 (HUAWEI, ANE-LX2J)</td>\n",
       "      <td>AT</td>\n",
       "    </tr>\n",
       "    <tr>\n",
       "      <th>1</th>\n",
       "      <td>2021-01-01T00:31:07Z</td>\n",
       "      <td>Scottish Clan</td>\n",
       "      <td>Derek Fiechter</td>\n",
       "      <td>Europe</td>\n",
       "      <td>190646</td>\n",
       "      <td>remote</td>\n",
       "      <td>trackdone</td>\n",
       "      <td>False</td>\n",
       "      <td>Partner sonos_imx6 Sonos;Amp;9b377073ea334637b...</td>\n",
       "      <td>AT</td>\n",
       "    </tr>\n",
       "    <tr>\n",
       "      <th>2</th>\n",
       "      <td>2021-01-01T00:34:37Z</td>\n",
       "      <td>For the King</td>\n",
       "      <td>Adrian Von Ziegler</td>\n",
       "      <td>The Celtic Collection</td>\n",
       "      <td>209325</td>\n",
       "      <td>trackdone</td>\n",
       "      <td>trackdone</td>\n",
       "      <td>False</td>\n",
       "      <td>Partner sonos_imx6 Sonos;Amp;9b377073ea334637b...</td>\n",
       "      <td>AT</td>\n",
       "    </tr>\n",
       "    <tr>\n",
       "      <th>3</th>\n",
       "      <td>2021-01-01T00:39:37Z</td>\n",
       "      <td>Let All Mortal Flesh Keep Silence - Konvulsion...</td>\n",
       "      <td>Traditional</td>\n",
       "      <td>Surrounded by Angels</td>\n",
       "      <td>300497</td>\n",
       "      <td>trackdone</td>\n",
       "      <td>trackdone</td>\n",
       "      <td>False</td>\n",
       "      <td>Partner sonos_imx6 Sonos;Amp;9b377073ea334637b...</td>\n",
       "      <td>AT</td>\n",
       "    </tr>\n",
       "    <tr>\n",
       "      <th>4</th>\n",
       "      <td>2021-01-01T00:41:45Z</td>\n",
       "      <td>Will And Elizabeth</td>\n",
       "      <td>Klaus Badelt</td>\n",
       "      <td>Pirates of the Caribbean: The Curse of the Bla...</td>\n",
       "      <td>128133</td>\n",
       "      <td>trackdone</td>\n",
       "      <td>trackdone</td>\n",
       "      <td>False</td>\n",
       "      <td>Partner sonos_imx6 Sonos;Amp;9b377073ea334637b...</td>\n",
       "      <td>AT</td>\n",
       "    </tr>\n",
       "  </tbody>\n",
       "</table>\n",
       "</div>"
      ],
      "text/plain": [
       "              date_time                                              track  \\\n",
       "0  2021-01-01T00:27:56Z                                      Scottish Clan   \n",
       "1  2021-01-01T00:31:07Z                                      Scottish Clan   \n",
       "2  2021-01-01T00:34:37Z                                       For the King   \n",
       "3  2021-01-01T00:39:37Z  Let All Mortal Flesh Keep Silence - Konvulsion...   \n",
       "4  2021-01-01T00:41:45Z                                 Will And Elizabeth   \n",
       "\n",
       "               artist                                              album  \\\n",
       "0      Derek Fiechter                                             Europe   \n",
       "1      Derek Fiechter                                             Europe   \n",
       "2  Adrian Von Ziegler                              The Celtic Collection   \n",
       "3         Traditional                               Surrounded by Angels   \n",
       "4        Klaus Badelt  Pirates of the Caribbean: The Curse of the Bla...   \n",
       "\n",
       "   ms_played reason_start reason_end  shuffle  \\\n",
       "0      11712      playbtn     remote     True   \n",
       "1     190646       remote  trackdone    False   \n",
       "2     209325    trackdone  trackdone    False   \n",
       "3     300497    trackdone  trackdone    False   \n",
       "4     128133    trackdone  trackdone    False   \n",
       "\n",
       "                                            platform country  \n",
       "0             Android OS 9 API 28 (HUAWEI, ANE-LX2J)      AT  \n",
       "1  Partner sonos_imx6 Sonos;Amp;9b377073ea334637b...      AT  \n",
       "2  Partner sonos_imx6 Sonos;Amp;9b377073ea334637b...      AT  \n",
       "3  Partner sonos_imx6 Sonos;Amp;9b377073ea334637b...      AT  \n",
       "4  Partner sonos_imx6 Sonos;Amp;9b377073ea334637b...      AT  "
      ]
     },
     "execution_count": 16,
     "metadata": {},
     "output_type": "execute_result"
    }
   ],
   "source": [
    "songs2021.head()"
   ]
  },
  {
   "cell_type": "code",
   "execution_count": 17,
   "id": "dec75a6c-ab2a-4684-8877-ceede8afcdfb",
   "metadata": {},
   "outputs": [
    {
     "name": "stdout",
     "output_type": "stream",
     "text": [
      "<class 'pandas.core.frame.DataFrame'>\n",
      "RangeIndex: 30797 entries, 0 to 30796\n",
      "Data columns (total 10 columns):\n",
      " #   Column        Non-Null Count  Dtype \n",
      "---  ------        --------------  ----- \n",
      " 0   date_time     30797 non-null  object\n",
      " 1   track         30797 non-null  object\n",
      " 2   artist        30797 non-null  object\n",
      " 3   album         30797 non-null  object\n",
      " 4   ms_played     30797 non-null  int64 \n",
      " 5   reason_start  30797 non-null  object\n",
      " 6   reason_end    30797 non-null  object\n",
      " 7   shuffle       30797 non-null  bool  \n",
      " 8   platform      30797 non-null  object\n",
      " 9   country       30797 non-null  object\n",
      "dtypes: bool(1), int64(1), object(8)\n",
      "memory usage: 2.1+ MB\n"
     ]
    }
   ],
   "source": [
    "songs2021.info()"
   ]
  },
  {
   "cell_type": "markdown",
   "id": "99025944-f0c7-4dcf-bf9f-c7f3a4faab5b",
   "metadata": {},
   "source": [
    "# Time spent listening - Function"
   ]
  },
  {
   "cell_type": "code",
   "execution_count": 18,
   "id": "f0c211f7-9b28-4aca-8e13-88005f0f7c6b",
   "metadata": {},
   "outputs": [],
   "source": [
    "milli22=int(songs2022[\"ms_played\"].sum())"
   ]
  },
  {
   "cell_type": "code",
   "execution_count": 19,
   "id": "3146e574-b8fb-4ed1-9642-64547329d143",
   "metadata": {},
   "outputs": [],
   "source": [
    "def milliseconds(millis):\n",
    "    seconds=(millis/1000)%60\n",
    "    seconds = int(seconds)\n",
    "    minutes=(millis/(1000*60))%60\n",
    "    minutes = int(minutes)\n",
    "    hours=(millis/(1000*60*60))\n",
    "    return (\"You listened to %d hours, %d minutes, and %d seconds of music this year\" % (hours, minutes, seconds))"
   ]
  },
  {
   "cell_type": "code",
   "execution_count": 20,
   "id": "668b2178-7239-4306-8c15-e105e33cea8b",
   "metadata": {},
   "outputs": [],
   "source": [
    "time_listened22=milliseconds(milli22)"
   ]
  },
  {
   "cell_type": "code",
   "execution_count": 21,
   "id": "6a2236fc-51b2-43a1-8a6d-762c0e73764e",
   "metadata": {},
   "outputs": [
    {
     "name": "stdout",
     "output_type": "stream",
     "text": [
      "You listened to 589 hours, 2 minutes, and 52 seconds of music this year\n"
     ]
    }
   ],
   "source": [
    "print(milliseconds(milli22))"
   ]
  },
  {
   "cell_type": "code",
   "execution_count": 22,
   "id": "98060ec0-b346-4136-b7bd-731da4159627",
   "metadata": {},
   "outputs": [],
   "source": [
    "milli2021=int(songs2021[\"ms_played\"].sum())\n",
    "milli2020=int(songs2020[\"ms_played\"].sum())\n",
    "milli2019=int(songs2019[\"ms_played\"].sum())\n",
    "milli2018=int(songs2018[\"ms_played\"].sum())"
   ]
  },
  {
   "cell_type": "code",
   "execution_count": 23,
   "id": "2a962f24-3faa-4818-92cc-ad1d1623c07b",
   "metadata": {},
   "outputs": [
    {
     "name": "stdout",
     "output_type": "stream",
     "text": [
      "You listened to 810 hours, 5 minutes, and 42 seconds of music this year\n",
      "You listened to 696 hours, 47 minutes, and 56 seconds of music this year\n",
      "You listened to 577 hours, 19 minutes, and 46 seconds of music this year\n",
      "You listened to 1915898536776 hours, 17 minutes, and 50 seconds of music this year\n"
     ]
    }
   ],
   "source": [
    "print(milliseconds(milli2021))\n",
    "print(milliseconds(milli2020))\n",
    "print(milliseconds(milli2019))\n",
    "print(milliseconds(milli2018))"
   ]
  },
  {
   "cell_type": "markdown",
   "id": "e3f2b36c-7b75-4604-9307-4b6b384678cd",
   "metadata": {},
   "source": [
    "# And so begins the journey, trying to find out what was happening in 2018"
   ]
  },
  {
   "cell_type": "code",
   "execution_count": 24,
   "id": "81b05a4c-3ccb-4d3b-8e70-978071590802",
   "metadata": {},
   "outputs": [
    {
     "name": "stdout",
     "output_type": "stream",
     "text": [
      "6897234732394669785\n"
     ]
    }
   ],
   "source": [
    "print(milli2018)"
   ]
  },
  {
   "cell_type": "code",
   "execution_count": 25,
   "id": "0620befd-7d8c-44d8-b786-898e673a6a26",
   "metadata": {},
   "outputs": [
    {
     "data": {
      "text/plain": [
       "1814813"
      ]
     },
     "execution_count": 25,
     "metadata": {},
     "output_type": "execute_result"
    }
   ],
   "source": [
    "songs2018[\"ms_played\"].max()"
   ]
  },
  {
   "cell_type": "code",
   "execution_count": 26,
   "id": "3ca507f1-dc40-4c5b-b016-6bfa4c96405b",
   "metadata": {},
   "outputs": [],
   "source": [
    "songs2018=cleaning(Dataframe=songs2018)"
   ]
  },
  {
   "cell_type": "code",
   "execution_count": 27,
   "id": "ab48f1c4-da8a-445a-be7b-e7bc143f0945",
   "metadata": {},
   "outputs": [
    {
     "data": {
      "text/plain": [
       "<bound method Series.info of 0        Dark Side of Your Room\n",
       "1        Dark Side of Your Room\n",
       "2                      Concrete\n",
       "3                 English Girls\n",
       "4            In Your Crosshairs\n",
       "                  ...          \n",
       "20953                Afire Love\n",
       "20954               Let It Roll\n",
       "20955         Life of the Party\n",
       "20956                    Cliffy\n",
       "20957              Double Helix\n",
       "Name: track, Length: 20958, dtype: object>"
      ]
     },
     "execution_count": 27,
     "metadata": {},
     "output_type": "execute_result"
    }
   ],
   "source": [
    "songs2018[\"track\"].info"
   ]
  },
  {
   "cell_type": "code",
   "execution_count": 28,
   "id": "ee0c055f-aa02-4cee-a0f7-e66ba5ffd2a7",
   "metadata": {},
   "outputs": [
    {
     "name": "stdout",
     "output_type": "stream",
     "text": [
      "6428\n"
     ]
    }
   ],
   "source": [
    "print(songs2018[\"ms_played\"].idxmax())"
   ]
  },
  {
   "cell_type": "code",
   "execution_count": 29,
   "id": "1f61c781-ccdc-4c1d-8b74-28b715ade3c2",
   "metadata": {},
   "outputs": [
    {
     "name": "stdout",
     "output_type": "stream",
     "text": [
      "date_time                                    2018-04-22T16:15:14Z\n",
      "track           The Return of the King (From \"The Lord of the ...\n",
      "artist                  The City of Prague Philharmonic Orchestra\n",
      "album                                   Lord Of The Rings Trilogy\n",
      "ms_played                                                  976893\n",
      "reason_start                                            trackdone\n",
      "reason_end                                              trackdone\n",
      "shuffle                                                      True\n",
      "platform           Android OS 7.0 API 24 (HUAWEI, HUAWEI CAN-L01)\n",
      "country                                                        AT\n",
      "Name: 6428, dtype: object\n"
     ]
    }
   ],
   "source": [
    "print(songs2018.loc[6428])"
   ]
  },
  {
   "cell_type": "code",
   "execution_count": 30,
   "id": "58b0d220-bb6a-484a-8050-a25a121b182a",
   "metadata": {},
   "outputs": [
    {
     "data": {
      "text/plain": [
       "-551078792893489.44"
      ]
     },
     "execution_count": 30,
     "metadata": {},
     "output_type": "execute_result"
    }
   ],
   "source": [
    "songs2018[\"ms_played\"].mean()"
   ]
  },
  {
   "cell_type": "markdown",
   "id": "fed06b25-b9fe-4bae-9f92-6dea87d86b29",
   "metadata": {
    "tags": []
   },
   "source": [
    "Turning the dataframe into a csv: <br>\n",
    "songs2018.to_csv(\"Data/s2018.csv\", columns=['track','ms_played'],sep=\",\")\n",
    "\n",
    "Turns out, something was wrong with three lines: <br>\n",
    "2715\tTime-Bomb\t-4.1634E+18 <br>\n",
    "2385\tDecember\t-3.9047E+18 <br>\n",
    "1423\tThreat Level Midnight\t-3.48141E+18\n",
    "\n",
    "So, I'm deleting those numbers:"
   ]
  },
  {
   "cell_type": "code",
   "execution_count": 31,
   "id": "924b030e-20ca-4e53-900b-b06de812df95",
   "metadata": {},
   "outputs": [],
   "source": [
    "songs2018.drop([2715,2385,1423], axis=0, inplace=True)"
   ]
  },
  {
   "cell_type": "code",
   "execution_count": 32,
   "id": "53b22c50-f9c9-4b6a-85dd-5c631dbbca7c",
   "metadata": {},
   "outputs": [],
   "source": [
    "milli2018=int(songs2018[\"ms_played\"].sum())"
   ]
  },
  {
   "cell_type": "code",
   "execution_count": 33,
   "id": "ea73b242-5a63-449e-92ec-4b086a760a3c",
   "metadata": {},
   "outputs": [
    {
     "name": "stdout",
     "output_type": "stream",
     "text": [
      "You listened to 659 hours, 19 minutes, and 32 seconds of music this year\n"
     ]
    }
   ],
   "source": [
    "print(milliseconds(milli2018))"
   ]
  },
  {
   "cell_type": "code",
   "execution_count": 34,
   "id": "01c8371f-ad83-45e3-a757-6025dd013844",
   "metadata": {},
   "outputs": [],
   "source": [
    "songs2018=songs2018.reset_index(drop=True)"
   ]
  },
  {
   "cell_type": "markdown",
   "id": "6d40a9c1-e746-437a-8167-0b95f7796c1a",
   "metadata": {
    "tags": []
   },
   "source": [
    "# Function for most and least played artists, albums, and songs\n",
    "I decdided to cut values if they were under a specific amount of times played, as I travel quite a lot in playlists and letting the shuffle just go off the rails. I decided for songs the threshold being 10, for artists and albums 5."
   ]
  },
  {
   "cell_type": "code",
   "execution_count": 35,
   "id": "d1322f61-aa35-484a-8514-3e98ad499bc0",
   "metadata": {
    "tags": []
   },
   "outputs": [],
   "source": [
    "counts = songs2018['artist'].value_counts()\n",
    "new_songs2018 = songs2018.loc[songs2018['artist'].isin(counts.index[counts>9])]"
   ]
  },
  {
   "cell_type": "code",
   "execution_count": 36,
   "id": "ade87939-2e20-4836-987a-d9f7fb8ffa63",
   "metadata": {
    "tags": []
   },
   "outputs": [
    {
     "data": {
      "text/plain": [
       "The Maine               1269\n",
       "All Time Low            1256\n",
       "The Front Bottoms        976\n",
       "Ed Sheeran               721\n",
       "Hayley Kiyoko            674\n",
       "                        ... \n",
       "Samuel Lindon             10\n",
       "Owl City                  10\n",
       "Rhiannon Bannenberg       10\n",
       "Music Lab Collective      10\n",
       "James Heather             10\n",
       "Name: artist, Length: 127, dtype: int64"
      ]
     },
     "execution_count": 36,
     "metadata": {},
     "output_type": "execute_result"
    }
   ],
   "source": [
    "new_songs2018['artist'].value_counts()"
   ]
  },
  {
   "cell_type": "code",
   "execution_count": 37,
   "id": "7f8af477-841f-4809-a37e-18cabfc1b1c3",
   "metadata": {
    "tags": []
   },
   "outputs": [],
   "source": [
    "artists2019 = songs2019.loc[songs2019['artist'].isin(songs2019['artist'].value_counts().index[(songs2019['artist'].value_counts()>9)])]"
   ]
  },
  {
   "cell_type": "code",
   "execution_count": 38,
   "id": "4c53aa4a-0ae6-4212-a7a7-dad29ed04feb",
   "metadata": {},
   "outputs": [],
   "source": [
    "tracks2019 = songs2019.loc[songs2019['track'].isin(songs2019['track'].value_counts().index[(songs2019['track'].value_counts()>4)])]"
   ]
  },
  {
   "cell_type": "code",
   "execution_count": 39,
   "id": "16de532c-643a-4307-b41f-abc676f3f52a",
   "metadata": {},
   "outputs": [],
   "source": [
    "albums2019 = songs2019.loc[songs2019['album'].isin(songs2019['album'].value_counts().index[(songs2019['album'].value_counts()>4)])]"
   ]
  },
  {
   "cell_type": "code",
   "execution_count": 40,
   "id": "c424c65a-07f9-4550-9245-613839236d1d",
   "metadata": {},
   "outputs": [
    {
     "data": {
      "text/plain": [
       "album                                                             artist          \n",
       "x                                                                 Ed Sheeran          302\n",
       "Bank On The Funeral                                               Matt Maeson         301\n",
       "Glitterbug                                                        The Wombats         283\n",
       "Beautiful People Will Ruin Your Life                              The Wombats         260\n",
       "Suburbia I've Given You All and Now I'm Nothing (Deluxe Version)  The Wonder Years    227\n",
       "dtype: int64"
      ]
     },
     "execution_count": 40,
     "metadata": {},
     "output_type": "execute_result"
    }
   ],
   "source": [
    "((albums2019[['album','artist']].value_counts()).head())"
   ]
  },
  {
   "cell_type": "code",
   "execution_count": 41,
   "id": "287eba1f-43b2-4152-9e86-c58a9ac90a9a",
   "metadata": {},
   "outputs": [
    {
     "data": {
      "text/plain": [
       "track               artist     \n",
       "Numb Without You    The Maine      56\n",
       "Lethal Combination  The Wombats    43\n",
       "Caught Up           Chapel         43\n",
       "Legacy              Matt Maeson    41\n",
       "Tribulation         Matt Maeson    40\n",
       "dtype: int64"
      ]
     },
     "execution_count": 41,
     "metadata": {},
     "output_type": "execute_result"
    }
   ],
   "source": [
    "((tracks2019[['track','artist']].value_counts()).head())"
   ]
  },
  {
   "cell_type": "code",
   "execution_count": 42,
   "id": "5b5c24ef-5a40-4bd4-86df-e53dd74da0ca",
   "metadata": {
    "tags": []
   },
   "outputs": [
    {
     "data": {
      "text/plain": [
       "album                            artist                             \n",
       "All We Know Is Falling           Paramore                               5\n",
       "Alene uden dig                   Tosh Møller                            5\n",
       "Airbourne                        Eric Badanti                           5\n",
       "Runnin' Toward the Light         Aaron West and The Roaring Twenties    5\n",
       "Immerse                          Rand Aldo                              5\n",
       "Ik blijf hier nog wel even       Annebelle Coenraad                     5\n",
       "This Isn't Who I Am / Girlcrush  Football Club                          5\n",
       "Mamma Mia! The Movie Soundtrack  Meryl Streep                           4\n",
       "                                 Amanda Seyfried                        2\n",
       "Celebrate                        Simple Minds                           2\n",
       "Mamma Mia! The Movie Soundtrack  Pierce Brosnan                         2\n",
       "                                 Julie Walters                          1\n",
       "                                 Colin Firth                            1\n",
       "                                 Cast of Mamma Mia! The Movie           1\n",
       "Awake                            Skillet                                1\n",
       "dtype: int64"
      ]
     },
     "execution_count": 42,
     "metadata": {},
     "output_type": "execute_result"
    }
   ],
   "source": [
    "((albums2019[['album','artist']].value_counts()).tail(15))"
   ]
  },
  {
   "cell_type": "code",
   "execution_count": 43,
   "id": "0ef66530-8c6d-46c8-9f19-522853fae7a0",
   "metadata": {},
   "outputs": [],
   "source": [
    "def artists_ranked (song):\n",
    "    artist = song.loc[song['artist'].isin(song['artist'].value_counts().index[(song['artist'].value_counts()>9)])]\n",
    "    artist_top= artist[['artist']].value_counts().head(15)\n",
    "    artist_low= artist[['artist']].value_counts().loc[lambda x: x>9].tail(15)\n",
    "    return print(artist_top,'\\n','\\n',artist_low,'\\n')"
   ]
  },
  {
   "cell_type": "code",
   "execution_count": 44,
   "id": "8cef0f0d-b1d7-4954-82a0-d507307bd718",
   "metadata": {
    "tags": []
   },
   "outputs": [
    {
     "name": "stdout",
     "output_type": "stream",
     "text": [
      "artist              \n",
      "All Time Low            1609\n",
      "The Maine               1470\n",
      "In Love With a Ghost    1035\n",
      "The Front Bottoms        923\n",
      "Neck Deep                909\n",
      "Ed Sheeran               887\n",
      "Real Friends             818\n",
      "The Wonder Years         812\n",
      "Stand Atlantic           800\n",
      "Modern Baseball          633\n",
      "Kodaline                 628\n",
      "The Wombats              578\n",
      "Basement                 566\n",
      "Knuckle Puck             559\n",
      "State Champs             527\n",
      "dtype: int64 \n",
      " \n",
      " artist              \n",
      "Miley Cyrus             11\n",
      "Lofi Fruits Music       11\n",
      "Two Door Cinema Club    11\n",
      "Dschinghis Khan         11\n",
      "Toploader               11\n",
      "Tomppabeats             11\n",
      "The Goo Goo Dolls       11\n",
      "Jason Mraz              11\n",
      "The Superweaks          11\n",
      "Of Monsters and Men     10\n",
      "Rudimental              10\n",
      "Daughter                10\n",
      "Study Music & Sounds    10\n",
      "Lady Gaga               10\n",
      "Ron Pope                10\n",
      "dtype: int64 \n",
      "\n",
      "None\n"
     ]
    }
   ],
   "source": [
    "print(artists_ranked(songs2020))"
   ]
  },
  {
   "cell_type": "code",
   "execution_count": 45,
   "id": "93d60b42-1a4b-4503-a18a-3bf4c5d6c6cd",
   "metadata": {},
   "outputs": [],
   "source": [
    "def albums_ranked (song):\n",
    "    albums = song.loc[song['album'].isin(song['album'].value_counts().index[(song['album'].value_counts()>4)])]\n",
    "    albums_top= albums[['album','artist']].value_counts().head(15)\n",
    "    albums_low= albums[['album','artist']].value_counts().loc[lambda x: x>4].tail(15)\n",
    "    return print(albums_top,'\\n','\\n',albums_low,'\\n')"
   ]
  },
  {
   "cell_type": "code",
   "execution_count": 46,
   "id": "a304f108-5524-441c-b610-beb7e5d36090",
   "metadata": {
    "tags": []
   },
   "outputs": [
    {
     "name": "stdout",
     "output_type": "stream",
     "text": [
      "album                                     artist              \n",
      "x                                         Ed Sheeran              424\n",
      "Skinny Dipping                            Stand Atlantic          333\n",
      "Playful Spirits                           In Love With a Ghost    318\n",
      "Wake Up, Sunshine                         All Time Low            313\n",
      "Fine Line                                 Harry Styles            277\n",
      "Pioneer & The Good Love                   The Maine               275\n",
      "Discography 2015-2016                     In Love With a Ghost    269\n",
      "Living Proof                              State Champs            234\n",
      "WHEN WE ALL FALL ASLEEP, WHERE DO WE GO?  Billie Eilish           233\n",
      "Forever Halloween (Deluxe Version)        The Maine               221\n",
      "As You Please                             Citizen                 221\n",
      "After the Sherry Went Round               The Eskies              219\n",
      "÷                                         Ed Sheeran              216\n",
      "Bank On The Funeral                       Matt Maeson             205\n",
      "Beautiful People Will Ruin Your Life      The Wombats             204\n",
      "dtype: int64 \n",
      " \n",
      " album                              artist                \n",
      "Warn Me                            Tigers Jaw                5\n",
      "Mayday Parade                      Mayday Parade             5\n",
      "Memories                           Maroon 5                  5\n",
      "Greatest Hits                      The Beach Boys            5\n",
      "Midnight Memories (Deluxe)         One Direction             5\n",
      "Lungs                              Florence + The Machine    5\n",
      "Toto                               TOTO                      5\n",
      "White Lies                         Max Frost                 5\n",
      "Glory Days                         Joey Pecoraro             5\n",
      "Ocean Eyes                         Owl City                  5\n",
      "The Very Best Of Herman's Hermits  Herman's Hermits          5\n",
      "Out On My Feet / Brakeless         The Wonder Years          5\n",
      "90s Songs                          Chumbawamba               5\n",
      "California Sunrise                 Jon Pardi                 5\n",
      "Harbor                             Tomppabeats               5\n",
      "dtype: int64 \n",
      "\n",
      "None\n"
     ]
    }
   ],
   "source": [
    "print(albums_ranked(songs2020))"
   ]
  },
  {
   "cell_type": "code",
   "execution_count": 47,
   "id": "80da1491-da18-4bd9-8137-9731346223f2",
   "metadata": {},
   "outputs": [],
   "source": [
    "def tracks_ranked (song):\n",
    "    tracks = song.loc[song['track'].isin(song['track'].value_counts().index[(song['track'].value_counts()>4)])]\n",
    "    tracks_top= tracks[['track','artist']].value_counts().head(15)\n",
    "    tracks_low= tracks[['track','artist']].value_counts().loc[lambda x: x>4].tail(15)\n",
    "    return print(tracks_top,'\\n','\\n',tracks_low,'\\n')"
   ]
  },
  {
   "cell_type": "code",
   "execution_count": 48,
   "id": "0d599888-a24c-4bc1-a658-911fe2a6ba23",
   "metadata": {
    "tags": []
   },
   "outputs": [
    {
     "name": "stdout",
     "output_type": "stream",
     "text": [
      "track                               artist          \n",
      "Pillow Talk                         Chapel              73\n",
      "Prologue                            Chase Petra         64\n",
      "If Your Light Goes Out              The Maine           62\n",
      "the freak show                      YUNGBLUD            59\n",
      "Misery Business                     Paramore            59\n",
      "It's Alright                        Mother Mother       57\n",
      "Hurt By You                         Donna Missal        57\n",
      "April 7th                           The Maine           53\n",
      "No Milk Today                       Herman's Hermits    51\n",
      "Take Your Jacket                    Hot Milk            50\n",
      "First Love                          Chapel              49\n",
      "deathwish (feat. nothing,nowhere.)  Stand Atlantic      48\n",
      "cotton candy                        YUNGBLUD            47\n",
      "Eviligo                             Stand Atlantic      47\n",
      "I'm Not Ok                          Weathers            47\n",
      "dtype: int64 \n",
      " \n",
      " track                                              artist              \n",
      "Want Me Around                                     Knuckle Puck            5\n",
      "I / Me / Myself                                    Will Wood               5\n",
      "Inch By Inch                                       Have Mercy              5\n",
      "What If                                            Modern Baseball         5\n",
      "Kiss And Sell                                      The Maine               5\n",
      "Walk Alone                                         PVRIS                   5\n",
      "I Wander                                           Cistem Failure          5\n",
      "Land Locked Blues                                  Bright Eyes             5\n",
      "Lay It All on Me (feat. Ed Sheeran)                Rudimental              5\n",
      "I Will Survive                                     Gloria Gaynor           5\n",
      "In My Room                                         Knuckle Puck            5\n",
      "I Know It's Not Easy but You're Not Alone Anymore  In Love With a Ghost    5\n",
      "Wake Me Up                                         Ed Sheeran              5\n",
      "Karoshi                                            Frieder Nagel           5\n",
      "What's My Age Again?                               blink-182               5\n",
      "dtype: int64 \n",
      "\n"
     ]
    }
   ],
   "source": [
    "tracks_ranked(songs2021)"
   ]
  },
  {
   "cell_type": "code",
   "execution_count": 49,
   "id": "f16fdc47-4d55-426b-b4ce-94ac727310bc",
   "metadata": {},
   "outputs": [],
   "source": [
    "def rank_everything(song):\n",
    "    artists_ranked(song)\n",
    "    tracks_ranked(song)\n",
    "    albums_ranked(song)"
   ]
  },
  {
   "cell_type": "code",
   "execution_count": 50,
   "id": "f7185f55-6f2c-4398-ad44-077fc28e8257",
   "metadata": {
    "tags": []
   },
   "outputs": [
    {
     "name": "stdout",
     "output_type": "stream",
     "text": [
      "artist              \n",
      "The Maine               1593\n",
      "All Time Low            1336\n",
      "The Front Bottoms       1090\n",
      "Ed Sheeran               845\n",
      "Neck Deep                771\n",
      "The Wonder Years         757\n",
      "YUNGBLUD                 725\n",
      "Real Friends             674\n",
      "Modern Baseball          615\n",
      "In Love With a Ghost     592\n",
      "The Wombats              583\n",
      "Stand Atlantic           535\n",
      "Kodaline                 493\n",
      "Citizen                  493\n",
      "Matt Maeson              466\n",
      "dtype: int64 \n",
      " \n",
      " artist              \n",
      "Die Orsons              10\n",
      "Sidney Gish             10\n",
      "They Might Be Giants    10\n",
      "Die Ärzte               10\n",
      "Murray Head             10\n",
      "Makeout                 10\n",
      "Gotye                   10\n",
      "Green Day               10\n",
      "Janelle Monáe           10\n",
      "King Princess           10\n",
      "Kupla                   10\n",
      "Little Nell             10\n",
      "The Wrecks              10\n",
      "Tide Lines              10\n",
      "Moose Blood             10\n",
      "dtype: int64 \n",
      "\n",
      "track                               artist          \n",
      "Pillow Talk                         Chapel              73\n",
      "Prologue                            Chase Petra         64\n",
      "If Your Light Goes Out              The Maine           62\n",
      "the freak show                      YUNGBLUD            59\n",
      "Misery Business                     Paramore            59\n",
      "It's Alright                        Mother Mother       57\n",
      "Hurt By You                         Donna Missal        57\n",
      "April 7th                           The Maine           53\n",
      "No Milk Today                       Herman's Hermits    51\n",
      "Take Your Jacket                    Hot Milk            50\n",
      "First Love                          Chapel              49\n",
      "deathwish (feat. nothing,nowhere.)  Stand Atlantic      48\n",
      "cotton candy                        YUNGBLUD            47\n",
      "Eviligo                             Stand Atlantic      47\n",
      "I'm Not Ok                          Weathers            47\n",
      "dtype: int64 \n",
      " \n",
      " track                                              artist              \n",
      "Want Me Around                                     Knuckle Puck            5\n",
      "I / Me / Myself                                    Will Wood               5\n",
      "Inch By Inch                                       Have Mercy              5\n",
      "What If                                            Modern Baseball         5\n",
      "Kiss And Sell                                      The Maine               5\n",
      "Walk Alone                                         PVRIS                   5\n",
      "I Wander                                           Cistem Failure          5\n",
      "Land Locked Blues                                  Bright Eyes             5\n",
      "Lay It All on Me (feat. Ed Sheeran)                Rudimental              5\n",
      "I Will Survive                                     Gloria Gaynor           5\n",
      "In My Room                                         Knuckle Puck            5\n",
      "I Know It's Not Easy but You're Not Alone Anymore  In Love With a Ghost    5\n",
      "Wake Me Up                                         Ed Sheeran              5\n",
      "Karoshi                                            Frieder Nagel           5\n",
      "What's My Age Again?                               blink-182               5\n",
      "dtype: int64 \n",
      "\n",
      "album                                     artist              \n",
      "Playful Spirits                           In Love With a Ghost    326\n",
      "weird!                                    YUNGBLUD                307\n",
      "x                                         Ed Sheeran              271\n",
      "Liminal                                   Chase Petra             250\n",
      "Pink Elephant                             Stand Atlantic          223\n",
      "XOXO: From Love & Anxiety In Real Time    The Maine               221\n",
      "Wake Up, Sunshine                         All Time Low            217\n",
      "Broken Machine (Deluxe)                   Nothing But Thieves     206\n",
      "Talon of the Hawk                         The Front Bottoms       199\n",
      "WHEN WE ALL FALL ASLEEP, WHERE DO WE GO?  Billie Eilish           198\n",
      "Beautiful People Will Ruin Your Life      The Wombats             197\n",
      "Bank On The Funeral                       Matt Maeson             197\n",
      "Folie à Deux                              Fall Out Boy            194\n",
      "Forever Halloween (Deluxe Version)        The Maine               193\n",
      "The Front Bottoms                         The Front Bottoms       192\n",
      "dtype: int64 \n",
      " \n",
      " album                 artist           \n",
      "Silver Line           Parov Stelar         5\n",
      "Simulcast             Tycho                5\n",
      "Puppy Love            Mom Jeans.           5\n",
      "Sleepwalking          Wänderlost           5\n",
      "Sleepyhead            Cavetown             5\n",
      "Sound Loaded          Ricky Martin         5\n",
      "Paranormal            Chase Petra          5\n",
      "M_L_01                Arms and Sleepers    5\n",
      "Oak Street            Knuckle Puck         5\n",
      "Native                OneRepublic          5\n",
      "Stranger in the Alps  Phoebe Bridgers      5\n",
      "TRXYE                 Troye Sivan          5\n",
      "Made In Heaven        Queen                5\n",
      "Take Me Home          One Direction        5\n",
      "Shy                   Saint Blonde         5\n",
      "dtype: int64 \n",
      "\n",
      "None\n"
     ]
    }
   ],
   "source": [
    "print(rank_everything(songs2021))"
   ]
  },
  {
   "cell_type": "markdown",
   "id": "62a60304-2dd0-43ce-b7c8-cf51ea414bad",
   "metadata": {},
   "source": [
    "# YourLibrary\n",
    "I found another database, which features all my liked songs, so let's dive into this"
   ]
  },
  {
   "cell_type": "code",
   "execution_count": 51,
   "id": "c64889b7-8c73-434e-853a-af7d221f441c",
   "metadata": {},
   "outputs": [],
   "source": [
    "liked_songs=liked_songs.rename(columns={'tracks/artist':'artist','tracks/album':'album','tracks/track':'track'})"
   ]
  },
  {
   "cell_type": "code",
   "execution_count": 52,
   "id": "b971857d-de29-4d48-80c2-0315011464c7",
   "metadata": {},
   "outputs": [],
   "source": [
    "songs_library2020=songs2020.loc[songs2020['artist'].isin(liked_songs['artist'])]"
   ]
  },
  {
   "cell_type": "code",
   "execution_count": 53,
   "id": "217ed1ad-055c-4b04-a3fc-57f0630bc81d",
   "metadata": {},
   "outputs": [],
   "source": [
    "def ranked_tracks (song):\n",
    "    tracks = song.loc[song['track'].isin(song['track'].value_counts().index[(song['track'].value_counts())])]\n",
    "    tracks_top= tracks[['track','artist']].value_counts().head(10)\n",
    "    tracks_low= tracks[['track','artist']].value_counts().tail(10)\n",
    "    return print(tracks_top,'\\n','\\n',tracks_low,'\\n')"
   ]
  },
  {
   "cell_type": "code",
   "execution_count": 54,
   "id": "cdf28a17-3afa-49bd-857a-693c1e02b68b",
   "metadata": {
    "tags": []
   },
   "outputs": [
    {
     "name": "stdout",
     "output_type": "stream",
     "text": [
      "track                                   artist          \n",
      "Monsters (feat. blackbear)              All Time Low        51\n",
      "Lowlife                                 Neck Deep           48\n",
      "Pretty Venom (Interlude)                All Time Low        47\n",
      "Dead and Gone                           State Champs        47\n",
      "Shh!                                    Stand Atlantic      47\n",
      "Clay (feat. Hannah Hermione Greenwood)  Stand Atlantic      45\n",
      "Strange Love                            Simple Creatures    42\n",
      "Cringe                                  Matt Maeson         40\n",
      "Lost My Cool                            Stand Atlantic      39\n",
      "Toothpick                               Stand Atlantic      39\n",
      "dtype: int64 \n",
      " \n",
      " track            artist           \n",
      "Runaway          Hayley Kiyoko        19\n",
      "Untitled         Knuckle Puck         18\n",
      "Medicine         Citizen              17\n",
      "                 Tiny Moving Parts    15\n",
      "Trampoline       The Front Bottoms    14\n",
      "Heat             Tigers Jaw           14\n",
      "Summer           Real Friends         13\n",
      "Control          Basement             13\n",
      "Your Graduation  Modern Baseball       9\n",
      "Golden           Fall Out Boy          5\n",
      "dtype: int64 \n",
      "\n"
     ]
    }
   ],
   "source": [
    "ranked_tracks(songs_library2020)"
   ]
  },
  {
   "cell_type": "code",
   "execution_count": 55,
   "id": "b87346c2-7da9-4fd7-92a0-6411c661e81b",
   "metadata": {},
   "outputs": [],
   "source": [
    "def ranked_album (song):\n",
    "    album = song.loc[song['album'].isin(song['album'].value_counts().index)]\n",
    "    albums_top= album[['album','artist']].value_counts().head(10)\n",
    "    albums_low= album[['album','artist']].value_counts().tail(10)\n",
    "    return print(albums_top,'\\n','\\n',albums_low,'\\n')"
   ]
  },
  {
   "cell_type": "code",
   "execution_count": 56,
   "id": "1b976e19-9a35-4a7f-b058-32453f9c6848",
   "metadata": {
    "tags": []
   },
   "outputs": [
    {
     "name": "stdout",
     "output_type": "stream",
     "text": [
      "album                                     artist              \n",
      "x                                         Ed Sheeran              424\n",
      "Skinny Dipping                            Stand Atlantic          333\n",
      "Playful Spirits                           In Love With a Ghost    318\n",
      "Wake Up, Sunshine                         All Time Low            313\n",
      "Fine Line                                 Harry Styles            277\n",
      "Pioneer & The Good Love                   The Maine               275\n",
      "Discography 2015-2016                     In Love With a Ghost    269\n",
      "Living Proof                              State Champs            234\n",
      "WHEN WE ALL FALL ASLEEP, WHERE DO WE GO?  Billie Eilish           233\n",
      "Forever Halloween (Deluxe Version)        The Maine               221\n",
      "dtype: int64 \n",
      " \n",
      " album                        artist             \n",
      "Number Three                 My Chemical Romance    1\n",
      "Number One                   My Chemical Romance    1\n",
      "Number Four                  My Chemical Romance    1\n",
      "Number Five                  My Chemical Romance    1\n",
      "Nobody, No One Else          Tough On Fridays       1\n",
      "No.5 Collaborations Project  Ed Sheeran             1\n",
      "No Time To Die               Billie Eilish          1\n",
      "Monsters                     All Time Low           1\n",
      "Medicine                     Tiny Moving Parts      1\n",
      "Nella Vita                   Grayscale              1\n",
      "dtype: int64 \n",
      "\n"
     ]
    }
   ],
   "source": [
    "ranked_album(songs_library2020)"
   ]
  },
  {
   "cell_type": "code",
   "execution_count": 57,
   "id": "0ca57e3e-b773-43e8-a132-0c4088ffe46b",
   "metadata": {},
   "outputs": [],
   "source": [
    "def ranked_artist (song):\n",
    "    artist_new=song.loc[song['artist'].isin(song['artist'].value_counts().index)]\n",
    "    artist_top=artist_new[['artist']].value_counts().head(10)\n",
    "    artist_low= artist_new[['artist']].value_counts().tail(10)\n",
    "    return print(artist_top,'\\n','\\n',artist_low,'\\n')"
   ]
  },
  {
   "cell_type": "code",
   "execution_count": 58,
   "id": "6457c32c-f74b-4cf8-82b8-6de9ad8ae1c8",
   "metadata": {
    "tags": []
   },
   "outputs": [
    {
     "name": "stdout",
     "output_type": "stream",
     "text": [
      "artist              \n",
      "All Time Low            1609\n",
      "The Maine               1470\n",
      "In Love With a Ghost    1035\n",
      "The Front Bottoms        923\n",
      "Neck Deep                909\n",
      "Ed Sheeran               887\n",
      "Real Friends             818\n",
      "The Wonder Years         812\n",
      "Stand Atlantic           800\n",
      "Modern Baseball          633\n",
      "dtype: int64 \n",
      " \n",
      " artist           \n",
      "The Wrecks           1\n",
      "The Brobecks         1\n",
      "Sorority Noise       1\n",
      "Roar                 1\n",
      "Never Loved          1\n",
      "Lord Huron           1\n",
      "Lil Nas X            1\n",
      "Hands Like Houses    1\n",
      "Future Teens         1\n",
      "Choir Vandals        1\n",
      "dtype: int64 \n",
      "\n"
     ]
    }
   ],
   "source": [
    "ranked_artist(songs_library2020)"
   ]
  },
  {
   "cell_type": "code",
   "execution_count": 59,
   "id": "b1ab2d8b-1d29-4543-9cbe-d32a61a522f1",
   "metadata": {},
   "outputs": [],
   "source": [
    "def rank_library (song):\n",
    "    library = song.loc[song['artist'].isin(liked_songs['artist'])]\n",
    "    ranked_tracks(library)\n",
    "    ranked_album(library)\n",
    "    ranked_artist(library)"
   ]
  },
  {
   "cell_type": "code",
   "execution_count": 60,
   "id": "16221c5a-5edb-4cbe-9f0d-967e68b3c7fd",
   "metadata": {},
   "outputs": [
    {
     "name": "stdout",
     "output_type": "stream",
     "text": [
      "track                        artist     \n",
      "Caught Up                    Chapel         43\n",
      "Lethal Combination           The Wombats    43\n",
      "Legacy                       Matt Maeson    41\n",
      "Tribulation                  Matt Maeson    40\n",
      "Hallucinogenics              Matt Maeson    38\n",
      "Beggar's Song                Matt Maeson    38\n",
      "Be Your Shadow               The Wombats    37\n",
      "I Just Don't Care That Much  Matt Maeson    36\n",
      "My Best Habit                The Maine      36\n",
      "Cindy White                  Chapel         36\n",
      "dtype: int64 \n",
      " \n",
      " track                   artist           \n",
      "parents                 YUNGBLUD             26\n",
      "Follow Your Fire        Kodaline             25\n",
      "Sleepover               Hayley Kiyoko        25\n",
      "My Friends Over You     New Found Glory      25\n",
      "Lemon to a Knife Fight  The Wombats          25\n",
      "Plum                    Troye Sivan          23\n",
      "Your Graduation         Stand Atlantic       23\n",
      "Trampoline              The Front Bottoms    10\n",
      "Your Graduation         Modern Baseball       8\n",
      "Headspace               BLOXX                 2\n",
      "dtype: int64 \n",
      "\n",
      "album                                                             artist          \n",
      "x                                                                 Ed Sheeran          302\n",
      "Bank On The Funeral                                               Matt Maeson         301\n",
      "Glitterbug                                                        The Wombats         283\n",
      "Beautiful People Will Ruin Your Life                              The Wombats         260\n",
      "Suburbia I've Given You All and Now I'm Nothing (Deluxe Version)  The Wonder Years    227\n",
      "Sunday Brunch                                                     Chapel              211\n",
      "21st Century Liability                                            YUNGBLUD            207\n",
      "Resurrection: Ascension                                           New Found Glory     177\n",
      "Welcome to the Neighbourhood                                      Boston Manor        176\n",
      "Blue Neighbourhood                                                Troye Sivan         170\n",
      "dtype: int64 \n",
      " \n",
      " album                                       artist           \n",
      "Transformers: Dark of the Moon - The Album  Paramore             1\n",
      "Old Bones                                   Broadside            1\n",
      "Old Gray & Tiny Moving Parts                Tiny Moving Parts    1\n",
      "Underworld                                  Tonight Alive        1\n",
      "Happy Birthday                              Tiny Moving Parts    1\n",
      "Hallucinogenics                             Matt Maeson          1\n",
      "Liquid                                      Boston Manor         1\n",
      "Paradise                                    Broadside            1\n",
      "Warm Hand Splash                            Tiny Moving Parts    1\n",
      "Split                                       Seaway               1\n",
      "dtype: int64 \n",
      "\n",
      "artist           \n",
      "The Maine            1042\n",
      "All Time Low          912\n",
      "The Wombats           698\n",
      "The Wonder Years      664\n",
      "The Front Bottoms     614\n",
      "Real Friends          579\n",
      "Matt Maeson           569\n",
      "Ed Sheeran            555\n",
      "Basement              472\n",
      "Kodaline              456\n",
      "dtype: int64 \n",
      " \n",
      " artist        \n",
      "Every Avenue      6\n",
      "Football Club     5\n",
      "Gerard Way        4\n",
      "Tonight Alive     4\n",
      "The Stranglers    4\n",
      "Hozier            2\n",
      "Broadside         2\n",
      "AJR               2\n",
      "Tom Rosenthal     1\n",
      "dodie             1\n",
      "dtype: int64 \n",
      "\n"
     ]
    }
   ],
   "source": [
    "rank_library(songs2019)"
   ]
  },
  {
   "cell_type": "markdown",
   "id": "3fc5c57f-49e1-470b-9fbc-107ed8b44403",
   "metadata": {},
   "source": [
    "## Let's get to the base of that sauce... the graphs and plots"
   ]
  },
  {
   "cell_type": "code",
   "execution_count": 61,
   "id": "f26298ea-288f-42af-b66b-1835a1874195",
   "metadata": {},
   "outputs": [],
   "source": [
    "import os\n",
    "import sys\n",
    "import pathlib\n",
    "import matplotlib.pyplot as plt"
   ]
  },
  {
   "cell_type": "code",
   "execution_count": 71,
   "id": "2c102cac-8072-48cb-b0c6-bfda6d1793c7",
   "metadata": {},
   "outputs": [],
   "source": [
    "top2020=songs2020.loc[songs2020['artist'].isin(songs2020['artist'].value_counts().index)][['artist']].value_counts().reset_index().head(5)\n",
    "top2021=songs2021.loc[songs2021['artist'].isin(songs2021['artist'].value_counts().index)][['artist']].value_counts().head(5)"
   ]
  },
  {
   "cell_type": "code",
   "execution_count": 110,
   "id": "d18c1193-0560-4607-b55f-854b333d0a22",
   "metadata": {},
   "outputs": [],
   "source": [
    "top2020=songs2020.loc[songs2020['artist'].isin(songs2020['artist'].value_counts().index)][['artist']].value_counts().reset_index().head()"
   ]
  },
  {
   "cell_type": "code",
   "execution_count": 111,
   "id": "1d209fa6-13e2-484d-84d9-5065b2535496",
   "metadata": {},
   "outputs": [],
   "source": [
    "top2020.columns=['artist','counts']"
   ]
  },
  {
   "cell_type": "code",
   "execution_count": 109,
   "id": "41bafb90-88c5-4ae0-aab2-217d50cf0906",
   "metadata": {
    "tags": []
   },
   "outputs": [],
   "source": [
    "def top5 (song):\n",
    "    artist_new=song.loc[song['artist'].isin(song['artist'].value_counts().reset_index).head()]\n",
    "    artist_top=artist_new[['artist']].value_counts()\n",
    "    return print(artist_top)"
   ]
  },
  {
   "cell_type": "code",
   "execution_count": 112,
   "id": "fbaf0148-9800-41d4-bd81-fb27bb25c11d",
   "metadata": {},
   "outputs": [
    {
     "data": {
      "text/html": [
       "<div>\n",
       "<style scoped>\n",
       "    .dataframe tbody tr th:only-of-type {\n",
       "        vertical-align: middle;\n",
       "    }\n",
       "\n",
       "    .dataframe tbody tr th {\n",
       "        vertical-align: top;\n",
       "    }\n",
       "\n",
       "    .dataframe thead th {\n",
       "        text-align: right;\n",
       "    }\n",
       "</style>\n",
       "<table border=\"1\" class=\"dataframe\">\n",
       "  <thead>\n",
       "    <tr style=\"text-align: right;\">\n",
       "      <th></th>\n",
       "      <th>artist</th>\n",
       "      <th>counts</th>\n",
       "    </tr>\n",
       "  </thead>\n",
       "  <tbody>\n",
       "    <tr>\n",
       "      <th>0</th>\n",
       "      <td>All Time Low</td>\n",
       "      <td>1609</td>\n",
       "    </tr>\n",
       "    <tr>\n",
       "      <th>1</th>\n",
       "      <td>The Maine</td>\n",
       "      <td>1470</td>\n",
       "    </tr>\n",
       "    <tr>\n",
       "      <th>2</th>\n",
       "      <td>In Love With a Ghost</td>\n",
       "      <td>1035</td>\n",
       "    </tr>\n",
       "    <tr>\n",
       "      <th>3</th>\n",
       "      <td>The Front Bottoms</td>\n",
       "      <td>923</td>\n",
       "    </tr>\n",
       "    <tr>\n",
       "      <th>4</th>\n",
       "      <td>Neck Deep</td>\n",
       "      <td>909</td>\n",
       "    </tr>\n",
       "  </tbody>\n",
       "</table>\n",
       "</div>"
      ],
      "text/plain": [
       "                 artist  counts\n",
       "0          All Time Low    1609\n",
       "1             The Maine    1470\n",
       "2  In Love With a Ghost    1035\n",
       "3     The Front Bottoms     923\n",
       "4             Neck Deep     909"
      ]
     },
     "execution_count": 112,
     "metadata": {},
     "output_type": "execute_result"
    }
   ],
   "source": [
    "top2020"
   ]
  },
  {
   "cell_type": "code",
   "execution_count": 113,
   "id": "192832cc-8b55-4ec2-94f9-9473df816154",
   "metadata": {},
   "outputs": [],
   "source": [
    "list2020 = top2020['artist'].to_numpy()"
   ]
  },
  {
   "cell_type": "code",
   "execution_count": 115,
   "id": "85dcc628-38d4-4db3-9182-2c67550b381a",
   "metadata": {},
   "outputs": [
    {
     "data": {
      "text/plain": [
       "array(['All Time Low', 'The Maine', 'In Love With a Ghost',\n",
       "       'The Front Bottoms', 'Neck Deep'], dtype=object)"
      ]
     },
     "execution_count": 115,
     "metadata": {},
     "output_type": "execute_result"
    }
   ],
   "source": [
    "list2020"
   ]
  },
  {
   "cell_type": "code",
   "execution_count": 117,
   "id": "3be1e912-c501-4a2d-9c95-f238dffd6921",
   "metadata": {},
   "outputs": [],
   "source": [
    "x=np.array(list2020)"
   ]
  },
  {
   "cell_type": "code",
   "execution_count": 121,
   "id": "6032c46d-fa3c-4c26-8ee3-bbd29c61077e",
   "metadata": {},
   "outputs": [
    {
     "data": {
      "text/plain": [
       "[<matplotlib.lines.Line2D at 0x12c033fd3d0>]"
      ]
     },
     "execution_count": 121,
     "metadata": {},
     "output_type": "execute_result"
    },
    {
     "data": {
      "image/png": "[encoded data removed]",
      "text/plain": [
       "<Figure size 432x288 with 1 Axes>"
      ]
     },
     "metadata": {
      "needs_background": "light"
     },
     "output_type": "display_data"
    }
   ],
   "source": [
    "plt.plot(x)"
   ]
  },
  {
   "cell_type": "code",
   "execution_count": 122,
   "id": "db386380-7405-4a8e-9f9d-a671a41f2663",
   "metadata": {},
   "outputs": [],
   "source": [
    "top2021=songs2021.loc[songs2021['artist'].isin(songs2021['artist'].value_counts().index)][['artist']].value_counts().reset_index().head()"
   ]
  },
  {
   "cell_type": "code",
   "execution_count": 123,
   "id": "ce16965c-9702-4e58-bf5e-ce234f0407df",
   "metadata": {},
   "outputs": [],
   "source": [
    "top2021.columns=['artist','counts']"
   ]
  },
  {
   "cell_type": "code",
   "execution_count": 124,
   "id": "9aec67c8-cedb-4bb6-bdc8-d99d3f913217",
   "metadata": {},
   "outputs": [],
   "source": [
    "list2021 = top2021['artist'].to_numpy()"
   ]
  },
  {
   "cell_type": "code",
   "execution_count": 125,
   "id": "91bbb170-9fde-4067-9946-bcce3d02ac8e",
   "metadata": {},
   "outputs": [],
   "source": []
  },
  {
   "cell_type": "code",
   "execution_count": 126,
   "id": "c007c121-4858-443c-a767-a1c9c948f56b",
   "metadata": {},
   "outputs": [
    {
     "data": {
      "text/html": [
       "<div>\n",
       "<style scoped>\n",
       "    .dataframe tbody tr th:only-of-type {\n",
       "        vertical-align: middle;\n",
       "    }\n",
       "\n",
       "    .dataframe tbody tr th {\n",
       "        vertical-align: top;\n",
       "    }\n",
       "\n",
       "    .dataframe thead th {\n",
       "        text-align: right;\n",
       "    }\n",
       "</style>\n",
       "<table border=\"1\" class=\"dataframe\">\n",
       "  <thead>\n",
       "    <tr style=\"text-align: right;\">\n",
       "      <th></th>\n",
       "      <th>artist</th>\n",
       "      <th>counts</th>\n",
       "    </tr>\n",
       "  </thead>\n",
       "  <tbody>\n",
       "    <tr>\n",
       "      <th>0</th>\n",
       "      <td>All Time LowThe Maine</td>\n",
       "      <td>3202</td>\n",
       "    </tr>\n",
       "    <tr>\n",
       "      <th>1</th>\n",
       "      <td>The MaineAll Time Low</td>\n",
       "      <td>2806</td>\n",
       "    </tr>\n",
       "    <tr>\n",
       "      <th>2</th>\n",
       "      <td>In Love With a GhostThe Front Bottoms</td>\n",
       "      <td>2125</td>\n",
       "    </tr>\n",
       "    <tr>\n",
       "      <th>3</th>\n",
       "      <td>The Front BottomsEd Sheeran</td>\n",
       "      <td>1768</td>\n",
       "    </tr>\n",
       "    <tr>\n",
       "      <th>4</th>\n",
       "      <td>Neck DeepNeck Deep</td>\n",
       "      <td>1680</td>\n",
       "    </tr>\n",
       "  </tbody>\n",
       "</table>\n",
       "</div>"
      ],
      "text/plain": [
       "                                  artist  counts\n",
       "0                  All Time LowThe Maine    3202\n",
       "1                  The MaineAll Time Low    2806\n",
       "2  In Love With a GhostThe Front Bottoms    2125\n",
       "3            The Front BottomsEd Sheeran    1768\n",
       "4                     Neck DeepNeck Deep    1680"
      ]
     },
     "execution_count": 126,
     "metadata": {},
     "output_type": "execute_result"
    }
   ],
   "source": []
  },
  {
   "cell_type": "code",
   "execution_count": null,
   "id": "2c781ec1-7d1a-4fb0-aabf-0d031fe95146",
   "metadata": {},
   "outputs": [],
   "source": []
  }
 ],
 "metadata": {
  "kernelspec": {
   "display_name": "Python 3 (ipykernel)",
   "language": "python",
   "name": "python3"
  },
  "language_info": {
   "codemirror_mode": {
    "name": "ipython",
    "version": 3
   },
   "file_extension": ".py",
   "mimetype": "text/x-python",
   "name": "python",
   "nbconvert_exporter": "python",
   "pygments_lexer": "ipython3",
   "version": "3.9.12"
  }
 },
 "nbformat": 4,
 "nbformat_minor": 5
}
