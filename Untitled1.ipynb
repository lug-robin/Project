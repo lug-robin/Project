{
 "cells": [
  {
   "cell_type": "code",
   "execution_count": null,
   "id": "d600cd41-fc9c-41a9-87cc-c6ec3c878ad2",
   "metadata": {},
   "outputs": [],
   "source": [
    "s0 = pd.read_json (r'C:\\Users\\luger\\Desktop\\Uni\\MA Digital Humanities\\01 Semester\\UE Introduction to DH Tools\\MyData\\endsong_0.json')\n",
    "s0.to_csv (r'C:\\Users\\luger\\Desktop\\Uni\\MA Digital Humanities\\01 Semester\\UE Introduction to DH Tools\\Project\\songdata_0.csv', index = None)\n",
    "s1 = pd.read_json (r'C:\\Users\\luger\\Desktop\\Uni\\MA Digital Humanities\\01 Semester\\UE Introduction to DH Tools\\MyData\\endsong_1.json')\n",
    "s1.to_csv (r'C:\\Users\\luger\\Desktop\\Uni\\MA Digital Humanities\\01 Semester\\UE Introduction to DH Tools\\Project\\csv\\songdata_1.csv', index = None)\n",
    "s2 = pd.read_json (r'C:\\Users\\luger\\Desktop\\Uni\\MA Digital Humanities\\01 Semester\\UE Introduction to DH Tools\\MyData\\endsong_2.json')\n",
    "s2.to_csv (r'C:\\Users\\luger\\Desktop\\Uni\\MA Digital Humanities\\01 Semester\\UE Introduction to DH Tools\\Project\\csv\\songdata_2.csv', index = None)\n",
    "s3 = pd.read_json (r'C:\\Users\\luger\\Desktop\\Uni\\MA Digital Humanities\\01 Semester\\UE Introduction to DH Tools\\MyData\\endsong_3.json')\n",
    "s3.to_csv (r'C:\\Users\\luger\\Desktop\\Uni\\MA Digital Humanities\\01 Semester\\UE Introduction to DH Tools\\Project\\csv\\songdata_3.csv',index = None)\n",
    "s4 = pd.read_json (r'C:\\Users\\luger\\Desktop\\Uni\\MA Digital Humanities\\01 Semester\\UE Introduction to DH Tools\\MyData\\endsong_4.json')\n",
    "s4.to_csv (r'C:\\Users\\luger\\Desktop\\Uni\\MA Digital Humanities\\01 Semester\\UE Introduction to DH Tools\\Project\\csv\\songdata_4.csv',index = None)\n",
    "s5 = pd.read_json (r'C:\\Users\\luger\\Desktop\\Uni\\MA Digital Humanities\\01 Semester\\UE Introduction to DH Tools\\MyData\\endsong_5.json')\n",
    "s5.to_csv (r'C:\\Users\\luger\\Desktop\\Uni\\MA Digital Humanities\\01 Semester\\UE Introduction to DH Tools\\Project\\csv\\songdata_5.csv',index = None)\n",
    "s6 = pd.read_json (r'C:\\Users\\luger\\Desktop\\Uni\\MA Digital Humanities\\01 Semester\\UE Introduction to DH Tools\\MyData\\endsong_6.json')\n",
    "s6.to_csv (r'C:\\Users\\luger\\Desktop\\Uni\\MA Digital Humanities\\01 Semester\\UE Introduction to DH Tools\\Project\\csv\\songdata_6.csv',index = None)\n",
    "s7 = pd.read_json (r'C:\\Users\\luger\\Desktop\\Uni\\MA Digital Humanities\\01 Semester\\UE Introduction to DH Tools\\MyData\\endsong_7.json')\n",
    "s7.to_csv (r'C:\\Users\\luger\\Desktop\\Uni\\MA Digital Humanities\\01 Semester\\UE Introduction to DH Tools\\Project\\csv\\songdata_7.csv',index = None)\n",
    "s8 = pd.read_json (r'C:\\Users\\luger\\Desktop\\Uni\\MA Digital Humanities\\01 Semester\\UE Introduction to DH Tools\\MyData\\endsong_8.json')\n",
    "s8.to_csv (r'C:\\Users\\luger\\Desktop\\Uni\\MA Digital Humanities\\01 Semester\\UE Introduction to DH Tools\\Project\\csv\\songdata_8.csv',index = None)\n",
    "s9 = pd.read_json (r'C:\\Users\\luger\\Desktop\\Uni\\MA Digital Humanities\\01 Semester\\UE Introduction to DH Tools\\MyData\\endsong_9.json')\n",
    "s9.to_csv (r'C:\\Users\\luger\\Desktop\\Uni\\MA Digital Humanities\\01 Semester\\UE Introduction to DH Tools\\Project\\csv\\songdata_9.csv',index = None)\n",
    "s10 = pd.read_json (r'C:\\Users\\luger\\Desktop\\Uni\\MA Digital Humanities\\01 Semester\\UE Introduction to DH Tools\\MyData\\endsong_10.json')\n",
    "s10.to_csv (r'C:\\Users\\luger\\Desktop\\Uni\\MA Digital Humanities\\01 Semester\\UE Introduction to DH Tools\\Project\\csv\\songdata_10.csv',index = None)"
   ]
  }
 ],
 "metadata": {
  "kernelspec": {
   "display_name": "Python 3 (ipykernel)",
   "language": "python",
   "name": "python3"
  },
  "language_info": {
   "codemirror_mode": {
    "name": "ipython",
    "version": 3
   },
   "file_extension": ".py",
   "mimetype": "text/x-python",
   "name": "python",
   "nbconvert_exporter": "python",
   "pygments_lexer": "ipython3",
   "version": "3.9.12"
  }
 },
 "nbformat": 4,
 "nbformat_minor": 5
}
